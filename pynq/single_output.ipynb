{
 "cells": [
  {
   "cell_type": "code",
   "execution_count": 1,
   "metadata": {},
   "outputs": [
    {
     "data": {
      "application/javascript": "\ntry {\nrequire(['notebook/js/codecell'], function(codecell) {\n  codecell.CodeCell.options_default.highlight_modes[\n      'magic_text/x-csrc'] = {'reg':[/^%%microblaze/]};\n  Jupyter.notebook.events.one('kernel_ready.Kernel', function(){\n      Jupyter.notebook.get_cells().map(function(cell){\n          if (cell.cell_type == 'code'){ cell.auto_highlight(); } }) ;\n  });\n});\n} catch (e) {};\n"
     },
     "metadata": {},
     "output_type": "display_data"
    },
    {
     "data": {
      "application/javascript": "\ntry {\nrequire(['notebook/js/codecell'], function(codecell) {\n  codecell.CodeCell.options_default.highlight_modes[\n      'magic_text/x-csrc'] = {'reg':[/^%%pybind11/]};\n  Jupyter.notebook.events.one('kernel_ready.Kernel', function(){\n      Jupyter.notebook.get_cells().map(function(cell){\n          if (cell.cell_type == 'code'){ cell.auto_highlight(); } }) ;\n  });\n});\n} catch (e) {};\n"
     },
     "metadata": {},
     "output_type": "display_data"
    }
   ],
   "source": [
    "from extern_funcs import interpolate, fusion, celu, ln\n",
    "from pynq import Overlay, allocate\n",
    "import numpy as np\n",
    "import math\n",
    "import time\n",
    "import nngen_ctrl as ng"
   ]
  },
  {
   "cell_type": "code",
   "execution_count": 28,
   "metadata": {},
   "outputs": [],
   "source": [
    "\n",
    "params = np.load(\"params_nngen/params.npz\")['arr_0']\n",
    "inputs_npz = np.load(\"params_nngen/inputs.npz\")\n",
    "output = np.load(\"params_nngen/output.npz\")['output']\n",
    "intrinsics_npz = np.load(\"params_nngen/intrinsics.npz\")"
   ]
  },
  {
   "cell_type": "code",
   "execution_count": 29,
   "metadata": {},
   "outputs": [],
   "source": [
    "input_files = ['reference_image',\n",
    "               'frame_number',\n",
    "               'n_measurement_frames',\n",
    "               'measurement_feature0',\n",
    "               'measurement_feature1',\n",
    "               'hidden_state',\n",
    "               'cell_state']"
   ]
  },
  {
   "cell_type": "code",
   "execution_count": 30,
   "metadata": {},
   "outputs": [],
   "source": [
    "chunk_size = 64\n",
    "def get_end_addr(addr, memory_size):\n",
    "    return int(math.ceil((addr + memory_size) / chunk_size)) * chunk_size\n",
    "\n",
    "def shape2size(shape):\n",
    "    size = 1\n",
    "    for s in shape:\n",
    "        size *= s\n",
    "    return size"
   ]
  },
  {
   "cell_type": "code",
   "execution_count": 31,
   "metadata": {},
   "outputs": [
    {
     "name": "stdout",
     "output_type": "stream",
     "text": [
      "0 98304 405632\n",
      "[0, 98304, 196608, 196672, 196736, 295040, 393344, 399488, 405632]\n"
     ]
    }
   ],
   "source": [
    "axi_datawidth = 128\n",
    "act_bit = 16\n",
    "num_align_words = axi_datawidth // act_bit\n",
    "\n",
    "output_offset = 0\n",
    "addrs = [output_offset]\n",
    "output_aligned_shape = (*output.shape[:-1], int(math.ceil(output.shape[-1] / num_align_words)) * num_align_words)\n",
    "addrs.append(get_end_addr(addrs[-1], shape2size(output_aligned_shape) * (act_bit // 8)))\n",
    "\n",
    "input_offset = addrs[-1]\n",
    "inputs = []\n",
    "for file in input_files:\n",
    "    input = inputs_npz[file]\n",
    "    lack = (num_align_words - (input.shape[-1] % num_align_words)) % num_align_words\n",
    "    if lack > 0:\n",
    "        input = np.append(input, np.zeros(list(input.shape[:-1]) + [lack], dtype=input.dtype), axis=input.ndim-1)\n",
    "    input = np.reshape(input, [-1]).astype(np.int16)\n",
    "    inputs.append(input)\n",
    "    addrs.append(get_end_addr(addrs[-1], input.size * (act_bit // 8)))\n",
    "param_offset = addrs[-1]\n",
    "print(output_offset, input_offset, param_offset)\n",
    "print(addrs)"
   ]
  },
  {
   "cell_type": "code",
   "execution_count": 5,
   "metadata": {},
   "outputs": [],
   "source": [
    "bitfile = 'design_1.bit'\n",
    "ipname = 'dvmvs_0'\n",
    "\n",
    "overlay = Overlay(bitfile)\n",
    "# overlay.ip_dict\n",
    "ip = ng.nngen_core(overlay, ipname)"
   ]
  },
  {
   "cell_type": "code",
   "execution_count": 6,
   "metadata": {},
   "outputs": [],
   "source": [
    "memory_size = 1024 * 1024 * 192\n",
    "buf = allocate(shape=(memory_size,), dtype=np.uint8)"
   ]
  },
  {
   "cell_type": "code",
   "execution_count": 32,
   "metadata": {},
   "outputs": [],
   "source": [
    "for input, addr in zip(inputs, addrs[1:-1]):\n",
    "    buf[addr:addr + input.size * (act_bit // 8)] = input.view(np.uint8)\n",
    "buf[param_offset:param_offset + params.size] = params.view(np.int8)"
   ]
  },
  {
   "cell_type": "code",
   "execution_count": 8,
   "metadata": {},
   "outputs": [],
   "source": [
    "ip.set_global_buffer(buf)"
   ]
  },
  {
   "cell_type": "code",
   "execution_count": 21,
   "metadata": {},
   "outputs": [],
   "source": [
    "half_K = intrinsics_npz[\"half_K\"]\n",
    "pose1s = intrinsics_npz[\"current_pose\"]\n",
    "pose2ss = intrinsics_npz[\"measurement_poses\"]\n",
    "\n",
    "# opcode -> (func, [input.addr], input.aligned_shape, output.addr, output.aligned_shape)\n",
    "externs = {0x63: (interpolate(4, 6, 0, 'nearest'), [175276736], (1, 2, 3, 32), 175278656, (1, 4, 6, 32)),\n",
    "           0x67: (interpolate(8, 12, 0, 'nearest'), [175280192], (1, 4, 6, 32), 175287872, (1, 8, 12, 32)),\n",
    "           0x71: (interpolate(16, 24, 0, 'nearest'), [175294016], (1, 8, 12, 32), 175324736, (1, 16, 24, 32)),\n",
    "           0x75: (interpolate(32, 48, 0, 'nearest'), [175349312], (1, 16, 24, 32), 175472192, (1, 32, 48, 32)),\n",
    "           0x80: (fusion(11, half_K, pose1s, pose2ss), [175668800, 196736, 295040], (1, 32, 48, 32), 175865408, (1, 32, 48, 64)),\n",
    "           0x105: (lambda x : celu(12)(ln(12)(x)), [177091136], (1, 2, 3, 512), 177109568, (1, 2, 3, 512)),\n",
    "           0x106: (ln(12), [177115712], (1, 2, 3, 512), 177121856, (1, 2, 3, 512)),\n",
    "           0x107: (celu(12), [177121856], (1, 2, 3, 512), 177128000, (1, 2, 3, 512)),\n",
    "           0x108: (interpolate(4, 6, 0, 'bilinear'), [177140288], (1, 2, 3, 512), 177146432, (1, 4, 6, 512)),\n",
    "           0x114: (interpolate(8, 12, 0, 'bilinear'), [177232448], (1, 4, 6, 256), 177244736, (1, 8, 12, 256)),\n",
    "           0x116: (interpolate(8, 12, 0, 'bilinear'), [177293888], (1, 4, 6, 8), 177294272, (1, 8, 12, 8)),\n",
    "           0x121: (interpolate(16, 24, 0, 'bilinear'), [177397184], (1, 8, 12, 128), 177421760, (1, 16, 24, 128)),\n",
    "           0x123: (interpolate(16, 24, 0, 'bilinear'), [177520064], (1, 8, 12, 8), 177521600, (1, 16, 24, 8)),\n",
    "           0x128: (interpolate(32, 48, 0, 'bilinear'), [177736640], (1, 16, 24, 64), 177785792, (1, 32, 48, 64)),\n",
    "           0x130: (interpolate(32, 48, 0, 'bilinear'), [177982400], (1, 16, 24, 8), 177988544, (1, 32, 48, 8)),\n",
    "           0x135: (interpolate(64, 96, 0, 'bilinear'), [178553792], (1, 32, 48, 8), 178971584, (1, 64, 96, 8)),\n",
    "           0x136: (interpolate(64, 96, 0, 'bilinear'), [178455488], (1, 32, 48, 32), 178578368, (1, 64, 96, 32))}"
   ]
  },
  {
   "cell_type": "code",
   "execution_count": 33,
   "metadata": {},
   "outputs": [],
   "source": [
    "frame_number = inputs_npz[\"frame_number\"]\n",
    "n_measurement_frames = inputs_npz[\"n_measurement_frames\"]\n",
    "\n",
    "def run_extern(code):\n",
    "    start_time = time.time()\n",
    "    \n",
    "    func, input_addrs, input_aligned_shape, output_addr, output_aligned_shape = externs[code]\n",
    "    inputs = []\n",
    "    for input_addr in input_addrs:\n",
    "        input = buf[input_addr:input_addr + shape2size(input_aligned_shape) * (act_bit // 8)].view(np.int16).reshape(input_aligned_shape)\n",
    "        if input.shape[-1] == 8:\n",
    "            input = input[:,:,:,:1]\n",
    "        inputs.append(input)\n",
    "    if len(inputs) == 1:\n",
    "        output = func(*inputs)\n",
    "    else:\n",
    "        output = func(frame_number, inputs[0], n_measurement_frames, *inputs[1:])\n",
    "    if output.shape != output_aligned_shape:\n",
    "        output = np.append(output, np.zeros((*output.shape[:-1], 7), dtype=output.dtype), axis=output.ndim-1)\n",
    "    # print(code, output.shape)\n",
    "    output = output.astype(np.int16).reshape(-1)\n",
    "    buf[output_addr:output_addr + shape2size(output_aligned_shape) * (act_bit // 8)] = output.view(np.uint8)\n",
    "\n",
    "    print(code, time.time() - start_time)\n"
   ]
  },
  {
   "cell_type": "code",
   "execution_count": 34,
   "metadata": {},
   "outputs": [
    {
     "name": "stdout",
     "output_type": "stream",
     "text": [
      "99 0.11020803451538086\n",
      "103 0.0008809566497802734\n",
      "113 0.0009844303131103516\n",
      "117 0.0021445751190185547\n",
      "128 1.0873734951019287\n",
      "261 2.1880037784576416\n",
      "262 0.003666400909423828\n",
      "263 2.202094316482544\n",
      "264 0.0017180442810058594\n",
      "276 0.001550436019897461\n",
      "278 0.0009791851043701172\n",
      "289 0.0023622512817382812\n",
      "291 0.0022974014282226562\n",
      "296 0.004970073699951172\n",
      "304 0.0014636516571044922\n",
      "310 0.011937856674194336\n",
      "309 0.002193450927734375\n",
      "7.730220794677734\n"
     ]
    }
   ],
   "source": [
    "start_time = time.time()\n",
    "\n",
    "ip.run()\n",
    "for i in range(17):\n",
    "    code = ip.wait_extern()\n",
    "    run_extern(code)\n",
    "    ip.resume_extern()\n",
    "ip.wait()\n",
    "\n",
    "print(time.time() - start_time)"
   ]
  },
  {
   "cell_type": "code",
   "execution_count": 35,
   "metadata": {},
   "outputs": [
    {
     "name": "stdout",
     "output_type": "stream",
     "text": [
      "[[ 1.        -0.5619412]\n",
      " [-0.5619412  1.       ]]\n"
     ]
    }
   ],
   "source": [
    "\n",
    "orig = buf[addrs[0]:addrs[0] + shape2size(output_aligned_shape) * (act_bit // 8)].view(np.int16).reshape(output_aligned_shape)\n",
    "orig = orig[:,:,:,:output.shape[-1]]\n",
    "print(np.corrcoef(output.reshape(-1), orig.reshape(-1)))"
   ]
  },
  {
   "cell_type": "code",
   "execution_count": 12,
   "metadata": {},
   "outputs": [
    {
     "name": "stdout",
     "output_type": "stream",
     "text": [
      "(1, 64, 96, 1) (1, 64, 96, 8)\n"
     ]
    }
   ],
   "source": [
    "print(output.shape, buf[:input_offset].view(np.int16).reshape(output_aligned_shape).shape)"
   ]
  },
  {
   "cell_type": "code",
   "execution_count": 14,
   "metadata": {},
   "outputs": [
    {
     "name": "stdout",
     "output_type": "stream",
     "text": [
      "[3225 2839 2913 2913 2839 2839 2839 2839 2839 2839 2839 2839 2839 2839\n",
      " 2767 2767 2767 2767 2767 2767 2695 2695 2695 2695 2695 2695 2695 2767\n",
      " 2767 2767 2767 2767 2767 2767 2767 2767 2767 2839 2839 2839 2839 2839\n",
      " 2839 2913 2913 2913 2913 2913 2913 2913 2913 2839 2839 2839 2839 2839\n",
      " 2839 2839 2839 2839 2839 2839 2839 2839 2839 2839 2839 2839 2839 2839\n",
      " 2839 2839 2839 2839 2839 2839 2839 2839 2839 2839 2839 2839 2839 2839\n",
      " 2839 2839 2839 2913 2913 2989 2989 2989 3066 3145 3225 4015]\n"
     ]
    }
   ],
   "source": [
    "print(output[0, 10, :, 0])"
   ]
  },
  {
   "cell_type": "code",
   "execution_count": 12,
   "metadata": {},
   "outputs": [
    {
     "name": "stdout",
     "output_type": "stream",
     "text": [
      "4608\n"
     ]
    }
   ],
   "source": [
    "print(np.sum(buf[:input_offset].view(np.int16).reshape(output_aligned_shape)[:,16:,:,:1].reshape(-1) == 0))"
   ]
  },
  {
   "cell_type": "code",
   "execution_count": 13,
   "metadata": {},
   "outputs": [
    {
     "name": "stdout",
     "output_type": "stream",
     "text": [
      "1536\n"
     ]
    }
   ],
   "source": [
    "print(np.sum(buf[:input_offset].view(np.int16).reshape(output_aligned_shape)[:,:16,:,:1].reshape(-1) == 8192))"
   ]
  },
  {
   "cell_type": "code",
   "execution_count": 25,
   "metadata": {},
   "outputs": [
    {
     "data": {
      "text/plain": [
       "array([[ 1.       , -0.5619412],\n",
       "       [-0.5619412,  1.       ]])"
      ]
     },
     "execution_count": 25,
     "metadata": {},
     "output_type": "execute_result"
    }
   ],
   "source": [
    "np.corrcoef(output.reshape(-1), buf[:input_offset].view(np.int16).reshape(output_aligned_shape)[:,:,:,:1].reshape(-1))"
   ]
  },
  {
   "cell_type": "code",
   "execution_count": 16,
   "metadata": {},
   "outputs": [],
   "source": [
    "buf.freebuffer()"
   ]
  },
  {
   "cell_type": "code",
   "execution_count": null,
   "metadata": {},
   "outputs": [],
   "source": []
  }
 ],
 "metadata": {
  "interpreter": {
   "hash": "31f2aee4e71d21fbe5cf8b01ff0e069b9275f58929596ceb00d14d90e3e16cd6"
  },
  "kernelspec": {
   "display_name": "Python 3.8.10 64-bit",
   "language": "python",
   "name": "python3"
  },
  "language_info": {
   "codemirror_mode": {
    "name": "ipython",
    "version": 3
   },
   "file_extension": ".py",
   "mimetype": "text/x-python",
   "name": "python",
   "nbconvert_exporter": "python",
   "pygments_lexer": "ipython3",
   "version": "3.6.5"
  },
  "orig_nbformat": 4
 },
 "nbformat": 4,
 "nbformat_minor": 2
}
