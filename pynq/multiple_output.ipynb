{
 "cells": [
  {
   "cell_type": "code",
   "execution_count": 1,
   "metadata": {},
   "outputs": [
    {
     "data": {
      "application/javascript": "\ntry {\nrequire(['notebook/js/codecell'], function(codecell) {\n  codecell.CodeCell.options_default.highlight_modes[\n      'magic_text/x-csrc'] = {'reg':[/^%%microblaze/]};\n  Jupyter.notebook.events.one('kernel_ready.Kernel', function(){\n      Jupyter.notebook.get_cells().map(function(cell){\n          if (cell.cell_type == 'code'){ cell.auto_highlight(); } }) ;\n  });\n});\n} catch (e) {};\n"
     },
     "metadata": {},
     "output_type": "display_data"
    },
    {
     "data": {
      "application/javascript": "\ntry {\nrequire(['notebook/js/codecell'], function(codecell) {\n  codecell.CodeCell.options_default.highlight_modes[\n      'magic_text/x-csrc'] = {'reg':[/^%%pybind11/]};\n  Jupyter.notebook.events.one('kernel_ready.Kernel', function(){\n      Jupyter.notebook.get_cells().map(function(cell){\n          if (cell.cell_type == 'code'){ cell.auto_highlight(); } }) ;\n  });\n});\n} catch (e) {};\n"
     },
     "metadata": {},
     "output_type": "display_data"
    }
   ],
   "source": [
    "from extern_funcs import interpolate, fusion, celu, ln\n",
    "from pynq import Overlay, allocate\n",
    "import numpy as np\n",
    "import math\n",
    "import time\n",
    "import nngen_ctrl as ng"
   ]
  },
  {
   "cell_type": "code",
   "execution_count": 2,
   "metadata": {},
   "outputs": [],
   "source": [
    "\n",
    "params = np.load(\"../params_nngen/params.npz\")['arr_0']\n",
    "inputs_npz = np.load(\"../params_nngen/inputs.npz\")\n",
    "outputs_npz = np.load(\"../params_nngen/outputs.npz\")\n",
    "intrinsics_npz = np.load(\"../params_nngen/intrinsics.npz\")"
   ]
  },
  {
   "cell_type": "code",
   "execution_count": 3,
   "metadata": {},
   "outputs": [],
   "source": [
    "input_files = ['reference_image',\n",
    "               'frame_number',\n",
    "               'n_measurement_frames',\n",
    "               'measurement_feature0',\n",
    "               'measurement_feature1',\n",
    "               'hidden_state',\n",
    "               'cell_state']\n",
    "\n",
    "output_files = ['layer1',\n",
    "                'layer2',\n",
    "                'layer3',\n",
    "                'layer4',\n",
    "                'layer5',\n",
    "                'feature_one_sixteen',\n",
    "                'feature_one_eight',\n",
    "                'feature_quarter',\n",
    "                'feature_half',\n",
    "                'cost_volume',\n",
    "                'skip0',\n",
    "                'skip1',\n",
    "                'skip2',\n",
    "                'skip3',\n",
    "                'bottom',\n",
    "                'cell_state',\n",
    "                'hidden_state',\n",
    "                'depth_org']"
   ]
  },
  {
   "cell_type": "code",
   "execution_count": 4,
   "metadata": {},
   "outputs": [],
   "source": [
    "chunk_size = 64\n",
    "def get_end_addr(addr, memory_size):\n",
    "    return int(math.ceil((addr + memory_size) / chunk_size)) * chunk_size\n",
    "\n",
    "def shape2size(shape):\n",
    "    size = 1\n",
    "    for s in shape:\n",
    "        size *= s\n",
    "    return size"
   ]
  },
  {
   "cell_type": "code",
   "execution_count": 5,
   "metadata": {},
   "outputs": [
    {
     "name": "stdout",
     "output_type": "stream",
     "text": [
      "0 711936 1019264\n",
      "[0, 49152, 67584, 75264, 79872, 83712, 85248, 91392, 115968, 214272, 410880, 509184, 558336, 582912, 595200, 601344, 607488, 613632, 711936, 810240, 810304, 810368, 908672, 1006976, 1013120, 1019264]\n"
     ]
    }
   ],
   "source": [
    "axi_datawidth = 128\n",
    "act_bit = 16\n",
    "num_align_words = axi_datawidth // act_bit\n",
    "\n",
    "output_offset = 0\n",
    "addrs = [output_offset]\n",
    "output_aligned_shapes = []\n",
    "outputs = []\n",
    "for file in output_files:\n",
    "    output = outputs_npz[file]\n",
    "    output_aligned_shape = (*output.shape[:-1], int(math.ceil(output.shape[-1] / num_align_words)) * num_align_words)\n",
    "    output_aligned_shapes.append(output_aligned_shape)\n",
    "    outputs.append(output)\n",
    "    addrs.append(get_end_addr(addrs[-1], shape2size(output_aligned_shape) * (act_bit // 8)))\n",
    "\n",
    "input_offset = addrs[-1]\n",
    "inputs = []\n",
    "for file in input_files:\n",
    "    input = inputs_npz[file]\n",
    "    lack = (num_align_words - (input.shape[-1] % num_align_words)) % num_align_words\n",
    "    if lack > 0:\n",
    "        input = np.append(input, np.zeros(list(input.shape[:-1]) + [lack], dtype=input.dtype), axis=input.ndim-1)\n",
    "    input = np.reshape(input, [-1]).astype(np.int16)\n",
    "    inputs.append(input)\n",
    "    addrs.append(get_end_addr(addrs[-1], input.size * (act_bit // 8)))\n",
    "param_offset = addrs[-1]\n",
    "print(output_offset, input_offset, param_offset)\n",
    "print(addrs)"
   ]
  },
  {
   "cell_type": "code",
   "execution_count": 6,
   "metadata": {},
   "outputs": [],
   "source": [
    "bitfile = 'design_1.bit'\n",
    "ipname = 'dvmvs_0'\n",
    "\n",
    "overlay = Overlay(bitfile)\n",
    "# overlay.ip_dict\n",
    "ip = ng.nngen_core(overlay, ipname)"
   ]
  },
  {
   "cell_type": "code",
   "execution_count": 7,
   "metadata": {},
   "outputs": [],
   "source": [
    "memory_size = 1024 * 1024 * 192\n",
    "buf = allocate(shape=(memory_size,), dtype=np.uint8)"
   ]
  },
  {
   "cell_type": "code",
   "execution_count": 8,
   "metadata": {},
   "outputs": [],
   "source": [
    "for input, addr in zip(inputs, addrs[len(output_files):-1]):\n",
    "    buf[addr:addr + input.size * (act_bit // 8)] = input.view(np.uint8)\n",
    "buf[param_offset:param_offset + params.size] = params.view(np.int8)"
   ]
  },
  {
   "cell_type": "code",
   "execution_count": 9,
   "metadata": {},
   "outputs": [],
   "source": [
    "ip.set_global_buffer(buf)"
   ]
  },
  {
   "cell_type": "code",
   "execution_count": 10,
   "metadata": {},
   "outputs": [],
   "source": [
    "half_K = intrinsics_npz[\"half_K\"]\n",
    "pose1s = intrinsics_npz[\"current_pose\"]\n",
    "pose2ss = intrinsics_npz[\"measurement_poses\"]\n",
    "\n",
    "# opcode -> (func, [input.addr], input.aligned_shape, output.addr, output.aligned_shape)\n",
    "externs = {0x63: (interpolate(4, 6, 0, 'nearest'), [175806656], (1, 2, 3, 32), 175808576, (1, 4, 6, 32)),\n",
    "           0x67: (interpolate(8, 12, 0, 'nearest'), [175810112], (1, 4, 6, 32), 175817792, (1, 8, 12, 32)),\n",
    "           0x71: (interpolate(16, 24, 0, 'nearest'), [175823936], (1, 8, 12, 32), 175854656, (1, 16, 24, 32)),\n",
    "           0x75: (interpolate(32, 48, 0, 'nearest'), [175879232], (1, 16, 24, 32), 176002112, (1, 32, 48, 32)),\n",
    "           0x80: (fusion(11, half_K, pose1s, pose2ss), [115968, 810368, 908672], (1, 32, 48, 32), 214272, (1, 32, 48, 64)),\n",
    "           0x105: (lambda x : celu(12)(ln(12)(x)), [177103424], (1, 2, 3, 512), 177121856, (1, 2, 3, 512)),\n",
    "           0x106: (ln(12), [177128000], (1, 2, 3, 512), 601344, (1, 2, 3, 512)),\n",
    "           0x107: (celu(12), [601344], (1, 2, 3, 512), 177134144, (1, 2, 3, 512)),\n",
    "           0x108: (interpolate(4, 6, 0, 'bilinear'), [607488], (1, 2, 3, 512), 177146432, (1, 4, 6, 512)),\n",
    "           0x114: (interpolate(8, 12, 0, 'bilinear'), [177232448], (1, 4, 6, 256), 177244736, (1, 8, 12, 256)),\n",
    "           0x116: (interpolate(8, 12, 0, 'bilinear'), [177293888], (1, 4, 6, 8), 177294272, (1, 8, 12, 8)),\n",
    "           0x121: (interpolate(16, 24, 0, 'bilinear'), [177397184], (1, 8, 12, 128), 177421760, (1, 16, 24, 128)),\n",
    "           0x123: (interpolate(16, 24, 0, 'bilinear'), [177520064], (1, 8, 12, 8), 177521600, (1, 16, 24, 8)),\n",
    "           0x128: (interpolate(32, 48, 0, 'bilinear'), [177736640], (1, 16, 24, 64), 177785792, (1, 32, 48, 64)),\n",
    "           0x130: (interpolate(32, 48, 0, 'bilinear'), [177982400], (1, 16, 24, 8), 177988544, (1, 32, 48, 8)),\n",
    "           0x135: (interpolate(64, 96, 0, 'bilinear'), [178553792], (1, 32, 48, 8), 178971584, (1, 64, 96, 8)),\n",
    "           0x136: (interpolate(64, 96, 0, 'bilinear'), [178455488], (1, 32, 48, 32), 178578368, (1, 64, 96, 32))}"
   ]
  },
  {
   "cell_type": "code",
   "execution_count": 11,
   "metadata": {},
   "outputs": [],
   "source": [
    "frame_number = inputs_npz[\"frame_number\"]\n",
    "n_measurement_frames = inputs_npz[\"n_measurement_frames\"]\n",
    "\n",
    "def run_extern(code):\n",
    "    start_time = time.time()\n",
    "    \n",
    "    func, input_addrs, input_aligned_shape, output_addr, output_aligned_shape = externs[code]\n",
    "    inputs = []\n",
    "    for input_addr in input_addrs:\n",
    "        input = buf[input_addr:input_addr + shape2size(input_aligned_shape) * (act_bit // 8)].view(np.int16).reshape(input_aligned_shape)\n",
    "        if input.shape[-1] == 8:\n",
    "            input = input[:,:,:,:1]\n",
    "        inputs.append(input)\n",
    "    if len(inputs) == 1:\n",
    "        output = func(*inputs)\n",
    "    else:\n",
    "        output = func(frame_number, inputs[0], n_measurement_frames, *inputs[1:])\n",
    "    if output.shape != output_aligned_shape:\n",
    "        output = np.append(output, np.zeros((*output.shape[:-1], 7), dtype=output.dtype), axis=output.ndim-1)\n",
    "    # print(code, output.shape)\n",
    "    output = output.astype(np.int16).reshape(-1)\n",
    "    buf[output_addr:output_addr + shape2size(output_aligned_shape) * (act_bit // 8)] = output.view(np.uint8)\n",
    "\n",
    "    print(code, time.time() - start_time)\n"
   ]
  },
  {
   "cell_type": "code",
   "execution_count": 12,
   "metadata": {},
   "outputs": [
    {
     "name": "stdout",
     "output_type": "stream",
     "text": [
      "99 0.04647946357727051\n",
      "103 0.0020220279693603516\n",
      "113 0.0016057491302490234\n",
      "117 0.0068972110748291016\n",
      "128 1.1646838188171387\n",
      "261 2.26096248626709\n",
      "262 0.00365447998046875\n",
      "263 2.23189640045166\n",
      "264 0.008161306381225586\n",
      "276 0.0015597343444824219\n",
      "278 0.0009458065032958984\n",
      "289 0.002558469772338867\n",
      "291 0.001417398452758789\n",
      "296 0.0049512386322021484\n",
      "304 0.0014598369598388672\n",
      "310 0.012249231338500977\n",
      "309 0.002284526824951172\n",
      "7.7131805419921875\n"
     ]
    }
   ],
   "source": [
    "start_time = time.time()\n",
    "\n",
    "ip.run()\n",
    "for i in range(17):\n",
    "    code = ip.wait_extern()\n",
    "    run_extern(code)\n",
    "    ip.resume_extern()\n",
    "ip.wait()\n",
    "\n",
    "print(time.time() - start_time)\n"
   ]
  },
  {
   "cell_type": "code",
   "execution_count": 13,
   "metadata": {},
   "outputs": [
    {
     "name": "stdout",
     "output_type": "stream",
     "text": [
      "layer1 0.9999999999999998\n",
      "layer2 1.0\n",
      "layer3 0.9999999893227762\n",
      "layer4 0.9999999535704848\n",
      "layer5 0.9999998857999312\n",
      "feature_one_sixteen 0.9999999446782779\n",
      "feature_one_eight 0.9999999669183328\n",
      "feature_quarter 0.9999999740406471\n",
      "feature_half 0.9999999666703193\n",
      "cost_volume 0.9999999890399363\n",
      "skip0 0.9999999727280664\n",
      "skip1 0.9999999719662179\n",
      "skip2 0.9999999694383696\n",
      "skip3 0.9999999674678867\n",
      "bottom 0.9999999744975764\n",
      "cell_state 0.9999938806636451\n",
      "hidden_state 0.9999959832960018\n",
      "depth_org 0.9999087198577311\n"
     ]
    }
   ],
   "source": [
    "for i, output in enumerate(outputs):\n",
    "    orig = buf[addrs[i]:addrs[i] + shape2size(output_aligned_shapes[i]) * (act_bit // 8)].view(np.int16).reshape(output_aligned_shapes[i])\n",
    "    orig = orig[:,:,:,:output.shape[-1]]\n",
    "    print(output_files[i], np.corrcoef(output.reshape(-1), orig.reshape(-1))[0, 1])"
   ]
  },
  {
   "cell_type": "code",
   "execution_count": 14,
   "metadata": {},
   "outputs": [],
   "source": [
    "buf.freebuffer()"
   ]
  },
  {
   "cell_type": "code",
   "execution_count": null,
   "metadata": {},
   "outputs": [],
   "source": []
  }
 ],
 "metadata": {
  "interpreter": {
   "hash": "31f2aee4e71d21fbe5cf8b01ff0e069b9275f58929596ceb00d14d90e3e16cd6"
  },
  "kernelspec": {
   "display_name": "Python 3.8.10 64-bit",
   "language": "python",
   "name": "python3"
  },
  "language_info": {
   "codemirror_mode": {
    "name": "ipython",
    "version": 3
   },
   "file_extension": ".py",
   "mimetype": "text/x-python",
   "name": "python",
   "nbconvert_exporter": "python",
   "pygments_lexer": "ipython3",
   "version": "3.6.5"
  },
  "orig_nbformat": 4
 },
 "nbformat": 4,
 "nbformat_minor": 2
}
