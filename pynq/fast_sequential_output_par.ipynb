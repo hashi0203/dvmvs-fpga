{
 "cells": [
  {
   "cell_type": "code",
   "execution_count": 1,
   "metadata": {},
   "outputs": [
    {
     "data": {
      "application/javascript": "\ntry {\nrequire(['notebook/js/codecell'], function(codecell) {\n  codecell.CodeCell.options_default.highlight_modes[\n      'magic_text/x-csrc'] = {'reg':[/^%%microblaze/]};\n  Jupyter.notebook.events.one('kernel_ready.Kernel', function(){\n      Jupyter.notebook.get_cells().map(function(cell){\n          if (cell.cell_type == 'code'){ cell.auto_highlight(); } }) ;\n  });\n});\n} catch (e) {};\n"
     },
     "metadata": {},
     "output_type": "display_data"
    },
    {
     "data": {
      "application/javascript": "\ntry {\nrequire(['notebook/js/codecell'], function(codecell) {\n  codecell.CodeCell.options_default.highlight_modes[\n      'magic_text/x-csrc'] = {'reg':[/^%%pybind11/]};\n  Jupyter.notebook.events.one('kernel_ready.Kernel', function(){\n      Jupyter.notebook.get_cells().map(function(cell){\n          if (cell.cell_type == 'code'){ cell.auto_highlight(); } }) ;\n  });\n});\n} catch (e) {};\n"
     },
     "metadata": {},
     "output_type": "display_data"
    }
   ],
   "source": [
    "from extern_funcs import interpolate, Fusion, ln, lstm_state_calculator\n",
    "from keyframe_buffer import KeyframeBuffer\n",
    "from pynq import Overlay, allocate\n",
    "import numpy as np\n",
    "import math\n",
    "import time\n",
    "import nngen_ctrl as ng"
   ]
  },
  {
   "cell_type": "code",
   "execution_count": 2,
   "metadata": {},
   "outputs": [],
   "source": [
    "params = np.load(\"../params_nngen/params.npz\")['arr_0']\n",
    "inputs_npz = np.load(\"../params_nngen/inputs.npz\")\n",
    "outputs_npz = np.load(\"../params_nngen/outputs.npz\")\n",
    "predictions_npz = np.load(\"../params_nngen/predictions.npz\")\n",
    "intrinsics_npz = np.load(\"../params_nngen/intrinsics.npz\")"
   ]
  },
  {
   "cell_type": "code",
   "execution_count": 3,
   "metadata": {},
   "outputs": [],
   "source": [
    "output_files = ['feature_half',\n",
    "                'cell_state',\n",
    "                'hidden_state',\n",
    "                'depth_org']\n",
    "cell_state_idx = output_files.index('cell_state')\n",
    "input_files = ['reference_image',\n",
    "               'hidden_state',\n",
    "               'cell_state']"
   ]
  },
  {
   "cell_type": "code",
   "execution_count": 4,
   "metadata": {},
   "outputs": [],
   "source": [
    "chunk_size = 64\n",
    "def get_end_addr(addr, memory_size):\n",
    "    return int(math.ceil((addr + memory_size) / chunk_size)) * chunk_size\n",
    "\n",
    "def shape2size(shape):\n",
    "    size = 1\n",
    "    for s in shape:\n",
    "        size *= s\n",
    "    return size"
   ]
  },
  {
   "cell_type": "code",
   "execution_count": 5,
   "metadata": {},
   "outputs": [
    {
     "name": "stdout",
     "output_type": "stream",
     "text": [
      "0 208896 319488\n",
      "[0, 313344, 104448, 110592, 208896, 307200, 313344, 319488]\n"
     ]
    }
   ],
   "source": [
    "axi_datawidth = 128\n",
    "act_bit = 16\n",
    "num_align_words = axi_datawidth // act_bit\n",
    "\n",
    "output_offset = 0\n",
    "outputs = []\n",
    "output_aligned_shapes = []\n",
    "addrs = [output_offset]\n",
    "for file in output_files:\n",
    "    output = outputs_npz[file]\n",
    "    output_aligned_shape = (*output.shape[:-1], int(math.ceil(output.shape[-1] / num_align_words)) * num_align_words)\n",
    "    outputs.append(output)\n",
    "    output_aligned_shapes.append(output_aligned_shape)\n",
    "    addrs.append(get_end_addr(addrs[-1], shape2size(output_aligned_shape) * (act_bit // 8)))\n",
    "\n",
    "input_offset = addrs[-1]\n",
    "inputs = []\n",
    "for file in input_files:\n",
    "    input = inputs_npz[file]\n",
    "    lack = (num_align_words - (input.shape[-1] % num_align_words)) % num_align_words\n",
    "    if lack > 0:\n",
    "        input = np.append(input, np.zeros(list(input.shape[:-1]) + [lack], dtype=input.dtype), axis=input.ndim-1)\n",
    "    input = np.reshape(input, [-1]).astype(np.int16)\n",
    "    inputs.append(input)\n",
    "    addrs.append(get_end_addr(addrs[-1], input.size * (act_bit // 8)))\n",
    "cell_state_offset = addrs[-2] # change output cell_state addr to input addr\n",
    "addrs[cell_state_idx] = cell_state_offset\n",
    "param_offset = addrs[-1]\n",
    "print(output_offset, input_offset, param_offset)\n",
    "print(addrs)"
   ]
  },
  {
   "cell_type": "code",
   "execution_count": 6,
   "metadata": {},
   "outputs": [],
   "source": [
    "bitfile = 'design_1.bit'\n",
    "ipname = 'dvmvs_0'\n",
    "\n",
    "overlay = Overlay(bitfile)\n",
    "# overlay.ip_dict\n",
    "ip = ng.nngen_core(overlay, ipname)"
   ]
  },
  {
   "cell_type": "code",
   "execution_count": 7,
   "metadata": {},
   "outputs": [],
   "source": [
    "memory_size = 1024 * 1024 * 192\n",
    "buf = allocate(shape=(memory_size,), dtype=np.uint8)\n",
    "buf[param_offset:param_offset + params.size] = params.view(np.int8)"
   ]
  },
  {
   "cell_type": "code",
   "execution_count": 8,
   "metadata": {},
   "outputs": [
    {
     "name": "stdout",
     "output_type": "stream",
     "text": [
      "0\n",
      "313344\n",
      "104448\n",
      "110592\n",
      "208896\n",
      "307200\n",
      "313344\n"
     ]
    }
   ],
   "source": [
    "ip.set_global_buffer(buf)\n",
    "ip.write_buffer_address(cell_state_idx, cell_state_offset)\n",
    "for i in range(7):\n",
    "    print(ip.read_buffer_address(i))"
   ]
  },
  {
   "cell_type": "code",
   "execution_count": 9,
   "metadata": {},
   "outputs": [],
   "source": [
    "def prepare_input_value(value, lshift):\n",
    "    ret = value * (1 << lshift)\n",
    "    ret = np.clip(ret, -1 * 2 ** (16 - 1) - 1, 2 ** (16 - 1))\n",
    "    return np.round(ret.astype(np.float64)).astype(np.int16)"
   ]
  },
  {
   "cell_type": "code",
   "execution_count": 10,
   "metadata": {},
   "outputs": [],
   "source": [
    "reference_image_preds = predictions_npz[\"reference_image\"]\n",
    "feature_halfs = predictions_npz[\"feature_half\"]\n",
    "measurement_features = predictions_npz[\"measurement_features\"]\n",
    "hidden_states = predictions_npz[\"hidden_state\"]\n",
    "cell_states = predictions_npz[\"cell_state\"]\n",
    "\n",
    "n_measurement_frames = intrinsics_npz[\"n_measurement_frames\"]\n",
    "reference_images = intrinsics_npz[\"reference_image\"]\n",
    "reference_poses = intrinsics_npz[\"reference_pose\"]\n",
    "\n",
    "max_n_measurement_frames = 2\n",
    "min_depth = 0.25\n",
    "max_depth = 20.0\n",
    "inverse_depth_base = 1 / max_depth\n",
    "inverse_depth_multiplier = 1 / min_depth - 1 / max_depth\n",
    "\n",
    "test_keyframe_buffer_size = 30\n",
    "test_keyframe_pose_distance = 0.1\n",
    "test_optimal_t_measure = 0.15\n",
    "test_optimal_R_measure = 0.0\n",
    "\n",
    "calc = lstm_state_calculator(intrinsics_npz, prepare_input_value, 14-1)\n",
    "org_hidden_state = prepare_input_value(intrinsics_npz[\"hidden_state\"][0].transpose(0, 2, 3, 1), 14-1).reshape(-1)\n",
    "org_cell_state = prepare_input_value(intrinsics_npz[\"cell_state\"][0].transpose(0, 2, 3, 1), 12).reshape(-1)\n",
    "\n",
    "reference_pads = np.zeros([1, 64, 96, 5], dtype=np.int16)"
   ]
  },
  {
   "cell_type": "code",
   "execution_count": 11,
   "metadata": {},
   "outputs": [],
   "source": [
    "half_K = intrinsics_npz[\"half_K\"]\n",
    "pose1s = intrinsics_npz[\"current_pose\"]\n",
    "pose2ss = intrinsics_npz[\"measurement_poses\"]\n",
    "fusion = Fusion(11, half_K, pose1s, pose2ss)\n",
    "\n",
    "# opcode -> (func, input.addr, input.aligned_shape, output.addr, output.aligned_shape)\n",
    "externs = {0x79: (fusion, 0, (1, 32, 48, 32), 175680960, (1, 32, 48, 64)),\n",
    "           0x104: (ln(12), 176906688, (1, 2, 3, 512), 176925120, (1, 2, 3, 512)),\n",
    "           0x105: (ln(12), 176931264, (1, 2, 3, 512), cell_state_offset, (1, 2, 3, 512)),\n",
    "           0x107: (interpolate(4, 6, 0, 'bilinear'), 104448, (1, 2, 3, 512), 176943552, (1, 4, 6, 512)),\n",
    "           0x113: (interpolate(8, 12, 0, 'bilinear'), 177029568, (1, 4, 6, 256), 177041856, (1, 8, 12, 256)),\n",
    "           0x115: (interpolate(8, 12, 0, 'bilinear'), 177091008, (1, 4, 6, 8), 177091392, (1, 8, 12, 8)),\n",
    "           0x120: (interpolate(16, 24, 0, 'bilinear'), 177194304, (1, 8, 12, 128), 177218880, (1, 16, 24, 128)),\n",
    "           0x122: (interpolate(16, 24, 0, 'bilinear'), 177317184, (1, 8, 12, 8), 177318720, (1, 16, 24, 8)),\n",
    "           0x127: (interpolate(32, 48, 0, 'bilinear'), 177533760, (1, 16, 24, 64), 177582912, (1, 32, 48, 64)),\n",
    "           0x129: (interpolate(32, 48, 0, 'bilinear'), 177779520, (1, 16, 24, 8), 177785664, (1, 32, 48, 8)),\n",
    "           0x134: (interpolate(64, 96, 0, 'bilinear'), 178350912, (1, 32, 48, 8), 178768704, (1, 64, 96, 8)),\n",
    "           0x135: (interpolate(64, 96, 0, 'bilinear'), 178252608, (1, 32, 48, 32), 178375488, (1, 64, 96, 32))}"
   ]
  },
  {
   "cell_type": "code",
   "execution_count": 17,
   "metadata": {},
   "outputs": [],
   "source": [
    "def run_extern(code):\n",
    "    # start_time = time.time()\n",
    "    \n",
    "    func, input_addr, input_aligned_shape, output_addr, output_aligned_shape = externs[code]\n",
    "    input = buf[input_addr:input_addr + shape2size(input_aligned_shape) * (act_bit // 8)].view(np.int16).reshape(input_aligned_shape)\n",
    "    if input.shape[-1] == 8:\n",
    "        input = input[:,:,:,:1]\n",
    "    output = func(input)\n",
    "    if output.shape != output_aligned_shape:\n",
    "        output = np.append(output, np.zeros((*output.shape[:-1], 7), dtype=output.dtype), axis=output.ndim-1)\n",
    "    output = output.astype(np.int16).reshape(-1)\n",
    "    buf[output_addr:output_addr + shape2size(output_aligned_shape) * (act_bit // 8)] = output.view(np.uint8)\n",
    "\n",
    "    # print(code, time.time() - start_time)\n",
    "\n",
    "    if code == 0x79: return input"
   ]
  },
  {
   "cell_type": "code",
   "execution_count": 19,
   "metadata": {},
   "outputs": [
    {
     "name": "stdout",
     "output_type": "stream",
     "text": [
      "evaluating 00003.png (response: 0) ...\n",
      "0.4207649230957031\n",
      "evaluating 00004.png (response: 2) ...\n",
      "evaluating 00005.png (response: 2) ...\n",
      "evaluating 00006.png (response: 2) ...\n",
      "evaluating 00007.png (response: 2) ...\n",
      "evaluating 00008.png (response: 2) ...\n",
      "evaluating 00009.png (response: 1) ...\n",
      "0.7277026176452637\n",
      "evaluating 00010.png (response: 2) ...\n",
      "evaluating 00011.png (response: 2) ...\n",
      "evaluating 00012.png (response: 1) ...\n",
      "1.266845464706421\n",
      "evaluating 00013.png (response: 1) ...\n",
      "1.2142252922058105\n",
      "evaluating 00014.png (response: 1) ...\n",
      "1.1894159317016602\n",
      "evaluating 00015.png (response: 2) ...\n",
      "evaluating 00016.png (response: 1) ...\n",
      "1.176795482635498\n",
      "evaluating 00017.png (response: 1) ...\n",
      "1.2591784000396729\n",
      "evaluating 00018.png (response: 1) ...\n",
      "1.2855827808380127\n",
      "evaluating 00019.png (response: 1) ...\n",
      "1.2041840553283691\n",
      "evaluating 00020.png (response: 1) ...\n",
      "1.2500300407409668\n",
      "evaluating 00021.png (response: 1) ...\n",
      "1.2451398372650146\n",
      "evaluating 00022.png (response: 1) ...\n",
      "1.1701641082763672\n",
      "13.430145740509033\n"
     ]
    }
   ],
   "source": [
    "keyframe_buffer = KeyframeBuffer(buffer_size=test_keyframe_buffer_size,\n",
    "                                 keyframe_pose_distance=test_keyframe_pose_distance,\n",
    "                                 optimal_t_score=test_optimal_t_measure,\n",
    "                                 optimal_R_score=test_optimal_R_measure,\n",
    "                                 store_return_indices=False)\n",
    "previous = False\n",
    "hidden_state = None\n",
    "previous_depth = None\n",
    "previous_pose = None\n",
    "\n",
    "start_time_total = time.time()\n",
    "\n",
    "idx = 0\n",
    "depths = []\n",
    "for n in range(len(reference_images)):\n",
    "    start_time = time.time()\n",
    "    response = keyframe_buffer.try_new_keyframe(reference_poses[n][0])\n",
    "\n",
    "    print(\"evaluating %05d.png (response: %d) ...\" % (n + 3, response))\n",
    "    if response == 2 or response == 4 or response == 5:\n",
    "        continue\n",
    "    elif response == 3:\n",
    "        previous = False\n",
    "        hidden_state = None\n",
    "        previous_depth = None\n",
    "        previous_pose = None\n",
    "        continue\n",
    "\n",
    "    reference_image_value = prepare_input_value(reference_images[n].transpose(0, 2, 3, 1), 12)\n",
    "    # print(\"ri: %.4f\" % np.corrcoef(reference_image_value.reshape(-1), reference_image_preds[min(n, idx+1)].reshape(-1))[0, 1])\n",
    "    reference_image_value = np.append(reference_image_value, reference_pads, axis=3).reshape(-1)\n",
    "    addr = addrs[len(output_files)]\n",
    "    buf[addr:addr + reference_image_value.size * (act_bit // 8)] = reference_image_value.view(np.uint8)\n",
    "    # print(\"prep\", time.time() - start_time)\n",
    "    \n",
    "    ip.run()\n",
    "\n",
    "    if response == 0:\n",
    "        for i in range(len(externs)):\n",
    "            code = ip.wait_extern()\n",
    "            ip.resume_extern()\n",
    "            if i == 0:\n",
    "                _, input_addr, input_aligned_shape, _, _ = externs[code]\n",
    "                feature_half_value = buf[input_addr:input_addr + shape2size(input_aligned_shape) * (act_bit // 8)].view(np.int16).reshape(input_aligned_shape)\n",
    "                # print(\"fh: %.4f\" % np.corrcoef(feature_half_value.reshape(-1), feature_halfs[min(n, idx+1)].reshape(-1))[0, 1])\n",
    "                keyframe_buffer.add_new_keyframe(reference_poses[n][0], feature_half_value.copy())\n",
    "        ip.wait()\n",
    "        print(time.time() - start_time)\n",
    "        continue\n",
    "\n",
    "    # start_time_1 = time.time()\n",
    "    ### prepare fusion ###\n",
    "    measurement_features_value = []\n",
    "    frame_number_value = np.array([idx]).astype(np.int64)\n",
    "    n_measurement_frames_value = np.array([n_measurement_frames[idx]]).astype(np.int64)\n",
    "    for measurement_frame in keyframe_buffer.get_best_measurement_frames(reference_poses[n][0], max_n_measurement_frames):\n",
    "        measurement_features_value.append(measurement_frame[1])\n",
    "    # print(\"kfb_get\", time.time() - start_time_1)\n",
    "\n",
    "    # for i in range(len(measurement_features[idx])):\n",
    "    #     if i >= len(measurement_features_value):\n",
    "    #         print(\"mf: %d\" % np.sum(measurement_features[idx][i].reshape(-1)))\n",
    "    #     else:\n",
    "    #         print(\"mf: %.4f\" % np.corrcoef(measurement_features_value[i].reshape(-1), measurement_features[idx][i].reshape(-1))[0, 1])\n",
    "    \n",
    "    # start_time_1 = time.time()\n",
    "    fusion.prep(frame_number_value, n_measurement_frames_value, measurement_features_value)\n",
    "    # print(\"fusion.prep\", time.time() - start_time_1)\n",
    "\n",
    "    for i in range(len(externs)):\n",
    "        code = ip.wait_extern()\n",
    "        # print(\"e\", time.time() - start_time)\n",
    "        if i == 0:\n",
    "            feature_half_value = run_extern(code)\n",
    "            ip.resume_extern()\n",
    "\n",
    "            # timing cannot meat when HW is fast, so add extern before lstm should be better\n",
    "            # start_time_1 = time.time()\n",
    "            if previous:\n",
    "                ### prepare previous_depth and hidden_state ###\n",
    "                addr = addrs[3]\n",
    "                output_aligned_shape = output_aligned_shapes[3]\n",
    "                depth_org = buf[addr:addr + shape2size(output_aligned_shape) * (act_bit // 8)].view(np.int16).reshape(output_aligned_shape)\n",
    "                depth_org = depth_org[:,:,:,:1]\n",
    "                depth_org = (depth_org.transpose(0, 3, 1, 2) / (1 << 14)).astype(np.float32)\n",
    "                inverse_depth_full = inverse_depth_multiplier * depth_org + inverse_depth_base\n",
    "                previous_depth = 1.0 / inverse_depth_full\n",
    "                # print(\"dep\", time.time() - start_time_1)\n",
    "\n",
    "                # start_time_1 = time.time()\n",
    "                hidden_state_value = calc(hidden_state, previous_depth, previous_pose, reference_poses[n]).reshape(-1)\n",
    "                addr = addrs[len(output_files)+1]\n",
    "                buf[addr:addr + hidden_state_value.size * (act_bit // 8)] = hidden_state_value.view(np.uint8)\n",
    "                # print(\"hs: %.4f\" % np.corrcoef(hidden_state_value.reshape(-1), hidden_states[idx].reshape(-1))[0, 1])\n",
    "            else:\n",
    "                ### prepare hidden_state and cell_state ###\n",
    "                addr = addrs[len(output_files)+2]\n",
    "                buf[addr:addr + org_cell_state.size * (act_bit // 8)] = org_cell_state.view(np.uint8)\n",
    "                addr = addrs[len(output_files)+1]\n",
    "                buf[addr:addr + org_hidden_state.size * (act_bit // 8)] = org_hidden_state.view(np.uint8)\n",
    "                # print(\"hs: %d, %d\" % (np.sum(hidden_state_value.reshape(-1)), np.sum(hidden_states[idx].reshape(-1))))\n",
    "            # print(\"lstm\", time.time() - start_time_1)\n",
    "\n",
    "            # print(\"fh: %.4f\" % np.corrcoef(feature_half_value.reshape(-1), feature_halfs[min(n, idx+1)].reshape(-1))[0, 1])\n",
    "            # start_time_1 = time.time()\n",
    "            keyframe_buffer.add_new_keyframe(reference_poses[n][0], feature_half_value.copy())\n",
    "            # print(\"kfb_add\", time.time() - start_time_1)\n",
    "        else:\n",
    "            run_extern(code)\n",
    "            ip.resume_extern()\n",
    "        # ip.resume_extern()\n",
    "        # print(\"s\", time.time() - start_time)\n",
    "\n",
    "    # start_time_1 = time.time()\n",
    "    ### prepare hidden_state and cell_state ###\n",
    "    addr = addrs[2]\n",
    "    output_aligned_shape = output_aligned_shapes[2]\n",
    "    hidden_state = buf[addr:addr + shape2size(output_aligned_shape) * (act_bit // 8)].view(np.int16).reshape(output_aligned_shape)\n",
    "\n",
    "    previous_pose = reference_poses[n]\n",
    "    # print(\"post\", time.time() - start_time_1)\n",
    "\n",
    "    ip.wait()\n",
    "    print(time.time() - start_time)\n",
    "\n",
    "    if previous: depths.append(previous_depth)\n",
    "    # depths.append(previous_depth)\n",
    "    previous = True\n",
    "    idx += 1\n",
    "\n",
    "print(time.time() - start_time_total)\n",
    "\n",
    "addr = addrs[3]\n",
    "output_aligned_shape = output_aligned_shapes[3]\n",
    "depth_org = buf[addr:addr + shape2size(output_aligned_shape) * (act_bit // 8)].view(np.int16).reshape(output_aligned_shape)\n",
    "depth_org = depth_org[:,:,:,:1]\n",
    "depth_org = (depth_org.transpose(0, 3, 1, 2) / (1 << 14)).astype(np.float32)\n",
    "inverse_depth_full = inverse_depth_multiplier * depth_org + inverse_depth_base\n",
    "previous_depth = 1.0 / inverse_depth_full\n",
    "depths.append(previous_depth)"
   ]
  },
  {
   "cell_type": "code",
   "execution_count": 20,
   "metadata": {},
   "outputs": [
    {
     "name": "stdout",
     "output_type": "stream",
     "text": [
      "11 11\n",
      "0.9981565777181375\n",
      "0.9992710776042324\n",
      "0.9996280137354117\n",
      "0.9996086866854517\n",
      "0.9996956188322976\n",
      "0.9995581677242944\n",
      "0.9966955244703173\n",
      "0.9993713510852484\n",
      "0.9998212853445513\n",
      "0.9998595248968322\n",
      "0.9998194089611167\n"
     ]
    }
   ],
   "source": [
    "predictions = predictions_npz[\"prediction\"]\n",
    "print(len(predictions), len(depths))\n",
    "for prediction, depth in zip(predictions, depths):\n",
    "    print(np.corrcoef(prediction.reshape(-1), depth.reshape(-1))[0, 1])"
   ]
  },
  {
   "cell_type": "code",
   "execution_count": 15,
   "metadata": {},
   "outputs": [
    {
     "name": "stdout",
     "output_type": "stream",
     "text": [
      "0.22823548316955566\n",
      "0.07094073295593262\n",
      "0.0001633167266845703\n",
      "2.9087066650390625e-05\n",
      "0.010460853576660156\n",
      "0.0040912628173828125\n",
      "0.006636857986450195\n",
      "0.004149913787841797\n",
      "0.007702827453613281\n",
      "0.008277416229248047\n",
      "0.01756906509399414\n",
      "0.0037789344787597656\n",
      "0.05592679977416992\n",
      "0.42810487747192383\n"
     ]
    }
   ],
   "source": [
    "start_time_total = time.time()\n",
    "ip.run()\n",
    "start_time = time.time()\n",
    "for i in range(len(externs)):\n",
    "    code = ip.wait_extern()\n",
    "    print(time.time() - start_time)\n",
    "    ip.resume_extern()\n",
    "    start_time = time.time()\n",
    "ip.wait()\n",
    "print(time.time() - start_time)\n",
    "print(time.time() - start_time_total)"
   ]
  },
  {
   "cell_type": "code",
   "execution_count": null,
   "metadata": {},
   "outputs": [],
   "source": []
  }
 ],
 "metadata": {
  "interpreter": {
   "hash": "31f2aee4e71d21fbe5cf8b01ff0e069b9275f58929596ceb00d14d90e3e16cd6"
  },
  "kernelspec": {
   "display_name": "Python 3.8.10 64-bit",
   "language": "python",
   "name": "python3"
  },
  "language_info": {
   "codemirror_mode": {
    "name": "ipython",
    "version": 3
   },
   "file_extension": ".py",
   "mimetype": "text/x-python",
   "name": "python",
   "nbconvert_exporter": "python",
   "pygments_lexer": "ipython3",
   "version": "3.6.5"
  },
  "orig_nbformat": 4
 },
 "nbformat": 4,
 "nbformat_minor": 2
}
