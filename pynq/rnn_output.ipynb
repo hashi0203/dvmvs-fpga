{
 "cells": [
  {
   "cell_type": "code",
   "execution_count": 1,
   "metadata": {},
   "outputs": [
    {
     "data": {
      "application/javascript": "\ntry {\nrequire(['notebook/js/codecell'], function(codecell) {\n  codecell.CodeCell.options_default.highlight_modes[\n      'magic_text/x-csrc'] = {'reg':[/^%%microblaze/]};\n  Jupyter.notebook.events.one('kernel_ready.Kernel', function(){\n      Jupyter.notebook.get_cells().map(function(cell){\n          if (cell.cell_type == 'code'){ cell.auto_highlight(); } }) ;\n  });\n});\n} catch (e) {};\n"
     },
     "metadata": {},
     "output_type": "display_data"
    },
    {
     "data": {
      "application/javascript": "\ntry {\nrequire(['notebook/js/codecell'], function(codecell) {\n  codecell.CodeCell.options_default.highlight_modes[\n      'magic_text/x-csrc'] = {'reg':[/^%%pybind11/]};\n  Jupyter.notebook.events.one('kernel_ready.Kernel', function(){\n      Jupyter.notebook.get_cells().map(function(cell){\n          if (cell.cell_type == 'code'){ cell.auto_highlight(); } }) ;\n  });\n});\n} catch (e) {};\n"
     },
     "metadata": {},
     "output_type": "display_data"
    }
   ],
   "source": [
    "from extern_funcs import interpolate, Fusion, ln\n",
    "from pynq import Overlay, allocate\n",
    "import numpy as np\n",
    "import math\n",
    "import time\n",
    "import nngen_ctrl as ng"
   ]
  },
  {
   "cell_type": "code",
   "execution_count": 2,
   "metadata": {},
   "outputs": [],
   "source": [
    "\n",
    "params = np.load(\"../params_nngen/params.npz\")['arr_0']\n",
    "inputs_npz = np.load(\"../params_nngen/inputs.npz\")\n",
    "outputs_npz = np.load(\"../params_nngen/outputs.npz\")\n",
    "intrinsics_npz = np.load(\"../params_nngen/intrinsics.npz\")"
   ]
  },
  {
   "cell_type": "code",
   "execution_count": 3,
   "metadata": {},
   "outputs": [],
   "source": [
    "output_files = ['cell_state',\n",
    "                'hidden_state',\n",
    "                'depth_org']\n",
    "input_files = ['reference_image',\n",
    "               'hidden_state',\n",
    "               'cell_state']"
   ]
  },
  {
   "cell_type": "code",
   "execution_count": 4,
   "metadata": {},
   "outputs": [],
   "source": [
    "chunk_size = 64\n",
    "def get_end_addr(addr, memory_size):\n",
    "    return int(math.ceil((addr + memory_size) / chunk_size)) * chunk_size\n",
    "\n",
    "def shape2size(shape):\n",
    "    size = 1\n",
    "    for s in shape:\n",
    "        size *= s\n",
    "    return size"
   ]
  },
  {
   "cell_type": "code",
   "execution_count": 5,
   "metadata": {},
   "outputs": [
    {
     "name": "stdout",
     "output_type": "stream",
     "text": [
      "0 110592 221184\n",
      "[215040, 6144, 12288, 110592, 208896, 215040, 221184]\n"
     ]
    }
   ],
   "source": [
    "axi_datawidth = 128\n",
    "act_bit = 16\n",
    "num_align_words = axi_datawidth // act_bit\n",
    "\n",
    "output_offset = 0\n",
    "outputs = []\n",
    "output_aligned_shapes = []\n",
    "addrs = [output_offset]\n",
    "for file in output_files:\n",
    "    output = outputs_npz[file]\n",
    "    output_aligned_shape = (*output.shape[:-1], int(math.ceil(output.shape[-1] / num_align_words)) * num_align_words)\n",
    "    outputs.append(output)\n",
    "    output_aligned_shapes.append(output_aligned_shape)\n",
    "    addrs.append(get_end_addr(addrs[-1], shape2size(output_aligned_shape) * (act_bit // 8)))\n",
    "\n",
    "input_offset = addrs[-1]\n",
    "inputs = []\n",
    "for file in input_files:\n",
    "    input = inputs_npz[file]\n",
    "    lack = (num_align_words - (input.shape[-1] % num_align_words)) % num_align_words\n",
    "    if lack > 0:\n",
    "        input = np.append(input, np.zeros(list(input.shape[:-1]) + [lack], dtype=input.dtype), axis=input.ndim-1)\n",
    "    input = np.reshape(input, [-1]).astype(np.int16)\n",
    "    inputs.append(input)\n",
    "    addrs.append(get_end_addr(addrs[-1], input.size * (act_bit // 8)))\n",
    "cell_state_offset = addrs[-2] # change output cell_state addr to input addr\n",
    "addrs[0] = cell_state_offset\n",
    "param_offset = addrs[-1]\n",
    "print(output_offset, input_offset, param_offset)\n",
    "print(addrs)"
   ]
  },
  {
   "cell_type": "code",
   "execution_count": 6,
   "metadata": {},
   "outputs": [],
   "source": [
    "bitfile = 'design_1.bit'\n",
    "ipname = 'dvmvs_0'\n",
    "\n",
    "overlay = Overlay(bitfile)\n",
    "# overlay.ip_dict\n",
    "ip = ng.nngen_core(overlay, ipname)"
   ]
  },
  {
   "cell_type": "code",
   "execution_count": 7,
   "metadata": {},
   "outputs": [],
   "source": [
    "memory_size = 1024 * 1024 * 192\n",
    "buf = allocate(shape=(memory_size,), dtype=np.uint8)"
   ]
  },
  {
   "cell_type": "code",
   "execution_count": 8,
   "metadata": {},
   "outputs": [],
   "source": [
    "for input, addr in zip(inputs, addrs[len(output_files):-1]):\n",
    "    buf[addr:addr + input.size * (act_bit // 8)] = input.view(np.uint8)\n",
    "buf[param_offset:param_offset + params.size] = params.view(np.int8)"
   ]
  },
  {
   "cell_type": "code",
   "execution_count": 9,
   "metadata": {},
   "outputs": [
    {
     "name": "stdout",
     "output_type": "stream",
     "text": [
      "215040\n",
      "6144\n",
      "12288\n",
      "110592\n",
      "208896\n",
      "215040\n",
      "221184\n"
     ]
    }
   ],
   "source": [
    "ip.set_global_buffer(buf)\n",
    "ip.write_buffer_address(0, cell_state_offset)\n",
    "for i in range(7):\n",
    "    print(ip.read_buffer_address(i))"
   ]
  },
  {
   "cell_type": "code",
   "execution_count": 10,
   "metadata": {},
   "outputs": [],
   "source": [
    "half_K = intrinsics_npz[\"half_K\"]\n",
    "pose1s = intrinsics_npz[\"current_pose\"]\n",
    "pose2ss = intrinsics_npz[\"measurement_poses\"]\n",
    "fusion = Fusion(11, half_K, pose1s, pose2ss)\n",
    "\n",
    "# opcode -> (func, input.addr, input.aligned_shape, output.addr, output.aligned_shape)\n",
    "externs = {0x80: (fusion, 175484352, (1, 32, 48, 32), 175680960, (1, 32, 48, 64)),\n",
    "           0x105: (ln(12), 176906688, (1, 2, 3, 512), 176925120, (1, 2, 3, 512)),\n",
    "           0x106: (ln(12), 176931264, (1, 2, 3, 512), cell_state_offset, (1, 2, 3, 512)),\n",
    "           0x108: (interpolate(4, 6, 0, 'bilinear'), 6144, (1, 2, 3, 512), 176943552, (1, 4, 6, 512)),\n",
    "           0x114: (interpolate(8, 12, 0, 'bilinear'), 177029568, (1, 4, 6, 256), 177041856, (1, 8, 12, 256)),\n",
    "           0x116: (interpolate(8, 12, 0, 'bilinear'), 177091008, (1, 4, 6, 8), 177091392, (1, 8, 12, 8)),\n",
    "           0x121: (interpolate(16, 24, 0, 'bilinear'), 177194304, (1, 8, 12, 128), 177218880, (1, 16, 24, 128)),\n",
    "           0x123: (interpolate(16, 24, 0, 'bilinear'), 177317184, (1, 8, 12, 8), 177318720, (1, 16, 24, 8)),\n",
    "           0x128: (interpolate(32, 48, 0, 'bilinear'), 177533760, (1, 16, 24, 64), 177582912, (1, 32, 48, 64)),\n",
    "           0x130: (interpolate(32, 48, 0, 'bilinear'), 177779520, (1, 16, 24, 8), 177785664, (1, 32, 48, 8)),\n",
    "           0x135: (interpolate(64, 96, 0, 'bilinear'), 178350912, (1, 32, 48, 8), 178768704, (1, 64, 96, 8)),\n",
    "           0x136: (interpolate(64, 96, 0, 'bilinear'), 178252608, (1, 32, 48, 32), 178375488, (1, 64, 96, 32))}"
   ]
  },
  {
   "cell_type": "code",
   "execution_count": 11,
   "metadata": {},
   "outputs": [],
   "source": [
    "def run_extern(code):\n",
    "    start_time = time.time()\n",
    "    \n",
    "    func, input_addr, input_aligned_shape, output_addr, output_aligned_shape = externs[code]\n",
    "    input = buf[input_addr:input_addr + shape2size(input_aligned_shape) * (act_bit // 8)].view(np.int16).reshape(input_aligned_shape)\n",
    "    if input.shape[-1] == 8:\n",
    "        input = input[:,:,:,:1]\n",
    "    output = func(input)\n",
    "    if output.shape != output_aligned_shape:\n",
    "        output = np.append(output, np.zeros((*output.shape[:-1], 7), dtype=output.dtype), axis=output.ndim-1)\n",
    "    output = output.astype(np.int16).reshape(-1)\n",
    "    buf[output_addr:output_addr + shape2size(output_aligned_shape) * (act_bit // 8)] = output.view(np.uint8)\n",
    "\n",
    "    print(code, time.time() - start_time)"
   ]
  },
  {
   "cell_type": "code",
   "execution_count": 12,
   "metadata": {},
   "outputs": [
    {
     "name": "stdout",
     "output_type": "stream",
     "text": [
      "128 0.5190370082855225\n",
      "261 0.0035042762756347656\n",
      "262 0.003245830535888672\n",
      "264 0.018647193908691406\n",
      "276 0.0018463134765625\n",
      "278 0.0012662410736083984\n",
      "289 0.00281524658203125\n",
      "291 0.0019576549530029297\n",
      "296 0.005766630172729492\n",
      "304 0.0016286373138427734\n",
      "310 0.013348579406738281\n",
      "309 0.0028235912322998047\n",
      "2.6100411415100098\n"
     ]
    }
   ],
   "source": [
    "frame_number = inputs_npz[\"frame_number\"]\n",
    "n_measurement_frames = inputs_npz[\"n_measurement_frames\"]\n",
    "image2s = [inputs_npz['measurement_feature0'], inputs_npz['measurement_feature1']]\n",
    "\n",
    "start_time = time.time()\n",
    "\n",
    "N = 1\n",
    "for _ in range(N):\n",
    "    ip.run()\n",
    "    fusion.prep(frame_number, n_measurement_frames, image2s)\n",
    "    for i in range(len(externs)):\n",
    "        code = ip.wait_extern()\n",
    "        run_extern(code)\n",
    "        ip.resume_extern()\n",
    "    ip.wait()\n",
    "\n",
    "print((time.time() - start_time) / N)"
   ]
  },
  {
   "cell_type": "code",
   "execution_count": 13,
   "metadata": {},
   "outputs": [
    {
     "name": "stdout",
     "output_type": "stream",
     "text": [
      "cell_state 0.9999965920678364\n",
      "hidden_state 0.9999952132076847\n",
      "depth_org 0.9999482153902011\n"
     ]
    }
   ],
   "source": [
    "for i, (output, output_aligned_shape) in enumerate(zip(outputs, output_aligned_shapes)):\n",
    "    orig = buf[addrs[i]:addrs[i] + shape2size(output_aligned_shape) * (act_bit // 8)].view(np.int16).reshape(output_aligned_shape)\n",
    "    orig = orig[:,:,:,:output.shape[-1]]\n",
    "    print(output_files[i], np.corrcoef(output.reshape(-1), orig.reshape(-1))[0, 1])"
   ]
  },
  {
   "cell_type": "code",
   "execution_count": 14,
   "metadata": {},
   "outputs": [],
   "source": [
    "buf.freebuffer()"
   ]
  },
  {
   "cell_type": "code",
   "execution_count": null,
   "metadata": {},
   "outputs": [],
   "source": []
  }
 ],
 "metadata": {
  "interpreter": {
   "hash": "31f2aee4e71d21fbe5cf8b01ff0e069b9275f58929596ceb00d14d90e3e16cd6"
  },
  "kernelspec": {
   "display_name": "Python 3.8.10 64-bit",
   "language": "python",
   "name": "python3"
  },
  "language_info": {
   "codemirror_mode": {
    "name": "ipython",
    "version": 3
   },
   "file_extension": ".py",
   "mimetype": "text/x-python",
   "name": "python",
   "nbconvert_exporter": "python",
   "pygments_lexer": "ipython3",
   "version": "3.6.5"
  },
  "orig_nbformat": 4
 },
 "nbformat": 4,
 "nbformat_minor": 2
}
