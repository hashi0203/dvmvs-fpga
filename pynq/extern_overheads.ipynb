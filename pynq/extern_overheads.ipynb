{
 "cells": [
  {
   "cell_type": "code",
   "execution_count": 1,
   "metadata": {},
   "outputs": [
    {
     "data": {
      "application/javascript": "\ntry {\nrequire(['notebook/js/codecell'], function(codecell) {\n  codecell.CodeCell.options_default.highlight_modes[\n      'magic_text/x-csrc'] = {'reg':[/^%%microblaze/]};\n  Jupyter.notebook.events.one('kernel_ready.Kernel', function(){\n      Jupyter.notebook.get_cells().map(function(cell){\n          if (cell.cell_type == 'code'){ cell.auto_highlight(); } }) ;\n  });\n});\n} catch (e) {};\n"
     },
     "metadata": {},
     "output_type": "display_data"
    },
    {
     "data": {
      "application/javascript": "\ntry {\nrequire(['notebook/js/codecell'], function(codecell) {\n  codecell.CodeCell.options_default.highlight_modes[\n      'magic_text/x-csrc'] = {'reg':[/^%%pybind11/]};\n  Jupyter.notebook.events.one('kernel_ready.Kernel', function(){\n      Jupyter.notebook.get_cells().map(function(cell){\n          if (cell.cell_type == 'code'){ cell.auto_highlight(); } }) ;\n  });\n});\n} catch (e) {};\n"
     },
     "metadata": {},
     "output_type": "display_data"
    }
   ],
   "source": [
    "from extern_funcs_cython import interpolate, ln, lstm_state_calculator\n",
    "from fusion import fusion_quantize_cython, prep_cython\n",
    "from keyframe_buffer import KeyframeBuffer\n",
    "from pynq import Overlay, allocate\n",
    "import numpy as np\n",
    "import math\n",
    "import time\n",
    "import nngen_ctrl as ng"
   ]
  },
  {
   "cell_type": "code",
   "execution_count": 2,
   "metadata": {},
   "outputs": [],
   "source": [
    "params = np.load(\"../params_nngen/params.npz\")['arr_0']\n",
    "inputs_npz = np.load(\"../params_nngen/inputs.npz\")\n",
    "outputs_npz = np.load(\"../params_nngen/outputs.npz\")\n",
    "predictions_npz = np.load(\"../params_nngen/predictions.npz\")\n",
    "intrinsics_npz = np.load(\"../params_nngen/intrinsics.npz\")"
   ]
  },
  {
   "cell_type": "code",
   "execution_count": 3,
   "metadata": {},
   "outputs": [],
   "source": [
    "output_files = ['feature_half',\n",
    "                'cell_state',\n",
    "                'hidden_state',\n",
    "                'depth_org']\n",
    "cell_state_idx = output_files.index('cell_state')\n",
    "input_files = ['reference_image',\n",
    "               'hidden_state',\n",
    "               'cell_state']\n",
    "hidden_state_idx = len(output_files) + input_files.index('hidden_state')"
   ]
  },
  {
   "cell_type": "code",
   "execution_count": 4,
   "metadata": {},
   "outputs": [],
   "source": [
    "chunk_size = 64\n",
    "def get_end_addr(addr, memory_size):\n",
    "    return int(math.ceil((addr + memory_size) / chunk_size)) * chunk_size\n",
    "\n",
    "def shape2size(shape):\n",
    "    size = 1\n",
    "    for s in shape:\n",
    "        size *= s\n",
    "    return size"
   ]
  },
  {
   "cell_type": "code",
   "execution_count": 5,
   "metadata": {},
   "outputs": [
    {
     "name": "stdout",
     "output_type": "stream",
     "text": [
      "0 208896 319488\n",
      "[0, 313344, 104448, 110592, 208896, 307200, 313344, 319488]\n"
     ]
    }
   ],
   "source": [
    "axi_datawidth = 128\n",
    "act_bit = 16\n",
    "num_align_words = axi_datawidth // act_bit\n",
    "\n",
    "output_offset = 0\n",
    "outputs = []\n",
    "output_aligned_shapes = []\n",
    "addrs = [output_offset]\n",
    "for file in output_files:\n",
    "    output = outputs_npz[file]\n",
    "    output_aligned_shape = (*output.shape[:-1], int(math.ceil(output.shape[-1] / num_align_words)) * num_align_words)\n",
    "    outputs.append(output)\n",
    "    output_aligned_shapes.append(output_aligned_shape)\n",
    "    addrs.append(get_end_addr(addrs[-1], shape2size(output_aligned_shape) * (act_bit // 8)))\n",
    "\n",
    "input_offset = addrs[-1]\n",
    "inputs = []\n",
    "for file in input_files:\n",
    "    input = inputs_npz[file]\n",
    "    lack = (num_align_words - (input.shape[-1] % num_align_words)) % num_align_words\n",
    "    if lack > 0:\n",
    "        input = np.append(input, np.zeros(list(input.shape[:-1]) + [lack], dtype=input.dtype), axis=input.ndim-1)\n",
    "    input = np.reshape(input, [-1]).astype(np.int16)\n",
    "    inputs.append(input)\n",
    "    addrs.append(get_end_addr(addrs[-1], input.size * (act_bit // 8)))\n",
    "cell_state_offset = addrs[-2] # change output cell_state addr to input addr\n",
    "addrs[cell_state_idx] = cell_state_offset\n",
    "param_offset = addrs[-1]\n",
    "print(output_offset, input_offset, param_offset)\n",
    "print(addrs)"
   ]
  },
  {
   "cell_type": "code",
   "execution_count": 6,
   "metadata": {},
   "outputs": [],
   "source": [
    "bitfile = 'design_1.bit'\n",
    "ipname = 'dvmvs_0'\n",
    "\n",
    "overlay = Overlay(bitfile)\n",
    "# overlay.ip_dict\n",
    "ip = ng.nngen_core(overlay, ipname)"
   ]
  },
  {
   "cell_type": "code",
   "execution_count": 7,
   "metadata": {},
   "outputs": [],
   "source": [
    "memory_size = 1024 * 1024 * 192\n",
    "buf = allocate(shape=(memory_size,), dtype=np.uint8)\n",
    "buf[param_offset:param_offset + params.size] = params.view(np.int8)"
   ]
  },
  {
   "cell_type": "code",
   "execution_count": 8,
   "metadata": {},
   "outputs": [
    {
     "name": "stdout",
     "output_type": "stream",
     "text": [
      "0\n",
      "313344\n",
      "104448\n",
      "110592\n",
      "208896\n",
      "307200\n",
      "313344\n"
     ]
    }
   ],
   "source": [
    "ip.set_global_buffer(buf)\n",
    "ip.write_buffer_address(cell_state_idx, cell_state_offset)\n",
    "for i in range(7):\n",
    "    print(ip.read_buffer_address(i))"
   ]
  },
  {
   "cell_type": "code",
   "execution_count": 9,
   "metadata": {},
   "outputs": [],
   "source": [
    "def prepare_input_value(value, lshift):\n",
    "    ret = value * (1 << lshift)\n",
    "    ret = np.clip(ret, -1 * 2 ** (16 - 1) - 1, 2 ** (16 - 1))\n",
    "    return np.round(ret.astype(np.float64)).astype(np.int16)"
   ]
  },
  {
   "cell_type": "code",
   "execution_count": 10,
   "metadata": {},
   "outputs": [],
   "source": [
    "reference_image_preds = predictions_npz[\"reference_image\"]\n",
    "feature_halfs = predictions_npz[\"feature_half\"]\n",
    "measurement_features = predictions_npz[\"measurement_features\"]\n",
    "hidden_states = predictions_npz[\"hidden_state\"]\n",
    "cell_states = predictions_npz[\"cell_state\"]\n",
    "\n",
    "n_measurement_frames = intrinsics_npz[\"n_measurement_frames\"]\n",
    "reference_images = intrinsics_npz[\"reference_image\"]\n",
    "reference_poses = intrinsics_npz[\"reference_pose\"]\n",
    "\n",
    "max_n_measurement_frames = 2\n",
    "min_depth = 0.25\n",
    "max_depth = 20.0\n",
    "inverse_depth_base = 1 / max_depth\n",
    "inverse_depth_multiplier = 1 / min_depth - 1 / max_depth\n",
    "\n",
    "test_keyframe_buffer_size = 30\n",
    "test_keyframe_pose_distance = 0.1\n",
    "test_optimal_t_measure = 0.15\n",
    "test_optimal_R_measure = 0.0\n",
    "\n",
    "calc = lstm_state_calculator(intrinsics_npz, prepare_input_value, 14-1)\n",
    "org_hidden_state = prepare_input_value(intrinsics_npz[\"hidden_state\"][0].transpose(0, 2, 3, 1), 14-1).reshape(-1)\n",
    "org_cell_state = prepare_input_value(intrinsics_npz[\"cell_state\"][0].transpose(0, 2, 3, 1), 12).reshape(-1)\n",
    "\n",
    "reference_pads = np.zeros([1, 64, 96, 5], dtype=np.int16)"
   ]
  },
  {
   "cell_type": "code",
   "execution_count": 11,
   "metadata": {},
   "outputs": [],
   "source": [
    "half_K = intrinsics_npz[\"half_K\"][0]\n",
    "inv_half_K = np.linalg.inv(half_K)\n",
    "\n",
    "def get_warp_grid_for_cost_volume_calculation(width, height):\n",
    "    x = np.linspace(0, width - 1, num=int(width))\n",
    "    y = np.linspace(0, height - 1, num=int(height))\n",
    "    ones = np.ones(shape=(height, width))\n",
    "    x_grid, y_grid = np.meshgrid(x, y)\n",
    "    warp_grid = np.stack((x_grid, y_grid, ones), axis=-1)\n",
    "    warp_grid = warp_grid.astype(np.float32).reshape(-1, 3).T\n",
    "    return warp_grid\n",
    "warp_grid = get_warp_grid_for_cost_volume_calculation(int(96 / 2), int(64 / 2))\n",
    "\n",
    "def round_and_clip(input):\n",
    "    info = np.iinfo(np.int16)\n",
    "    return np.clip(np.round(input).astype(np.int64), info.min, info.max).astype(np.int16)"
   ]
  },
  {
   "cell_type": "code",
   "execution_count": 12,
   "metadata": {},
   "outputs": [],
   "source": [
    "# opcode -> (func, input.addr, input.aligned_shape, output.addr, output.aligned_shape)\n",
    "externs = {0x79: (None, 0, (1, 32, 48, 32), 175680960, (1, 32, 48, 64)),\n",
    "           0x104: (ln(12), 176906688, (1, 2, 3, 512), 176925120, (1, 2, 3, 512)),\n",
    "           0x105: (ln(12), 176931264, (1, 2, 3, 512), cell_state_offset, (1, 2, 3, 512)),\n",
    "           0x107: (interpolate(4, 6, 0, 'bilinear'), 104448, (1, 2, 3, 512), 176943552, (1, 4, 6, 512)),\n",
    "           0x113: (interpolate(8, 12, 0, 'bilinear'), 177029568, (1, 4, 6, 256), 177041856, (1, 8, 12, 256)),\n",
    "           0x115: (interpolate(8, 12, 0, 'bilinear'), 177091008, (1, 4, 6, 8), 177091392, (1, 8, 12, 8)),\n",
    "           0x120: (interpolate(16, 24, 0, 'bilinear'), 177194304, (1, 8, 12, 128), 177218880, (1, 16, 24, 128)),\n",
    "           0x122: (interpolate(16, 24, 0, 'bilinear'), 177317184, (1, 8, 12, 8), 177318720, (1, 16, 24, 8)),\n",
    "           0x127: (interpolate(32, 48, 0, 'bilinear'), 177533760, (1, 16, 24, 64), 177582912, (1, 32, 48, 64)),\n",
    "           0x129: (interpolate(32, 48, 0, 'bilinear'), 177779520, (1, 16, 24, 8), 177785664, (1, 32, 48, 8)),\n",
    "           0x134: (interpolate(64, 96, 0, 'bilinear'), 178350912, (1, 32, 48, 8), 178768704, (1, 64, 96, 8)),\n",
    "           0x135: (interpolate(64, 96, 0, 'bilinear'), 178252608, (1, 32, 48, 32), 178375488, (1, 64, 96, 32))}"
   ]
  },
  {
   "cell_type": "code",
   "execution_count": 26,
   "metadata": {},
   "outputs": [
    {
     "name": "stdout",
     "output_type": "stream",
     "text": [
      "121\n",
      "0.4206969738006592\n",
      "0.5770554542541504\n",
      "0.4654529094696045\n",
      "0.45978498458862305\n",
      "0.46330904960632324\n",
      "0.4639883041381836\n",
      "0.4693777561187744\n",
      "0.4589402675628662\n",
      "0.4634530544281006\n",
      "0.4646897315979004\n",
      "0.46304750442504883\n",
      "0.46677255630493164\n",
      "260\n",
      "0.4194786548614502\n",
      "0.4624812602996826\n",
      "0.46444034576416016\n",
      "0.46519899368286133\n",
      "0.46241164207458496\n",
      "0.460665225982666\n",
      "0.4652678966522217\n",
      "0.4660520553588867\n",
      "0.46234726905822754\n",
      "0.4618196487426758\n",
      "0.4670126438140869\n",
      "0.6881697177886963\n",
      "261\n",
      "0.4194793701171875\n",
      "0.46305155754089355\n",
      "0.4688596725463867\n",
      "0.4675424098968506\n",
      "0.46134376525878906\n",
      "0.4610438346862793\n",
      "0.45889830589294434\n",
      "0.46312594413757324\n",
      "0.4651947021484375\n",
      "0.46691322326660156\n",
      "0.4735255241394043\n",
      "0.4606912136077881\n",
      "263\n",
      "0.4199826717376709\n",
      "0.4636054039001465\n",
      "0.46457576751708984\n",
      "0.7438929080963135\n",
      "0.47002482414245605\n",
      "0.6646716594696045\n",
      "0.468686580657959\n",
      "0.4695150852203369\n",
      "0.4608585834503174\n",
      "0.46125340461730957\n",
      "0.4610788822174072\n",
      "0.46170854568481445\n",
      "275\n",
      "0.41962313652038574\n",
      "0.46072816848754883\n",
      "0.4608445167541504\n",
      "0.471691370010376\n",
      "0.6786761283874512\n",
      "0.46213412284851074\n",
      "0.4628922939300537\n",
      "0.46071624755859375\n",
      "0.4634127616882324\n",
      "0.46230340003967285\n",
      "0.46552586555480957\n",
      "0.46435022354125977\n",
      "277\n",
      "0.419633150100708\n",
      "0.462688684463501\n",
      "0.46529626846313477\n",
      "0.711479902267456\n",
      "0.462268590927124\n",
      "0.4680306911468506\n",
      "0.4638333320617676\n",
      "0.45913052558898926\n",
      "0.4595942497253418\n",
      "0.46449780464172363\n",
      "0.7098815441131592\n",
      "0.4680812358856201\n",
      "288\n",
      "0.4201509952545166\n",
      "0.45781898498535156\n",
      "0.4640054702758789\n",
      "0.45977187156677246\n",
      "0.4619278907775879\n",
      "0.4616739749908447\n",
      "0.46176624298095703\n",
      "0.4650893211364746\n",
      "0.6994979381561279\n",
      "0.4624762535095215\n",
      "0.4634878635406494\n",
      "0.461637020111084\n",
      "290\n",
      "0.4196493625640869\n",
      "0.46109819412231445\n",
      "0.4671967029571533\n",
      "0.4618055820465088\n",
      "0.4645242691040039\n",
      "0.731224536895752\n",
      "0.46361255645751953\n",
      "0.461289644241333\n",
      "0.4606132507324219\n",
      "0.4642984867095947\n",
      "0.46262145042419434\n",
      "0.4621093273162842\n",
      "295\n",
      "0.4196808338165283\n",
      "0.466397762298584\n",
      "0.6918492317199707\n",
      "0.46174144744873047\n",
      "0.4644787311553955\n",
      "0.46073055267333984\n",
      "0.4634559154510498\n",
      "0.461383581161499\n",
      "0.4611647129058838\n",
      "0.4621260166168213\n",
      "0.4645073413848877\n",
      "0.7094964981079102\n",
      "297\n",
      "0.4197070598602295\n",
      "0.4594306945800781\n",
      "0.47055840492248535\n",
      "0.4631199836730957\n",
      "0.46358156204223633\n",
      "0.46328043937683105\n",
      "0.46157240867614746\n",
      "0.46668434143066406\n",
      "0.6811847686767578\n",
      "0.46097898483276367\n",
      "0.46291542053222656\n",
      "0.4629781246185303\n",
      "308\n",
      "0.41974496841430664\n",
      "0.46434617042541504\n",
      "0.4612419605255127\n",
      "0.4589700698852539\n",
      "0.4674713611602783\n",
      "0.7205827236175537\n",
      "0.4618711471557617\n",
      "0.4611384868621826\n",
      "0.4627864360809326\n",
      "0.46160125732421875\n",
      "0.46340036392211914\n",
      "0.4628458023071289\n",
      "309\n",
      "0.41971778869628906\n",
      "0.46654367446899414\n",
      "0.7468826770782471\n",
      "0.46376919746398926\n",
      "0.46199893951416016\n",
      "0.4631776809692383\n",
      "0.46172571182250977\n",
      "0.462540864944458\n",
      "0.46337294578552246\n",
      "0.4628260135650635\n",
      "0.4640986919403076\n",
      "0.6967453956604004\n"
     ]
    }
   ],
   "source": [
    "sw = []\n",
    "hw = []\n",
    "c2s = {0x79: 801, 0x104: 1093, 0x105: 1135, 0x107: 1151, 0x113: 1207, 0x115: 1235, 0x120: 1281, 0x122: 1309, 0x127: 1355, 0x129: 1383, 0x134: 1454, 0x135: 1429}\n",
    "for s in [0x79, 0x104, 0x105, 0x107, 0x113, 0x115, 0x120, 0x122, 0x127, 0x129, 0x134, 0x135]:\n",
    "    print(s)\n",
    "    ip.base_ip.write(52, c2s[s])\n",
    "\n",
    "    def run_extern(code, warped_image2s=None):\n",
    "        if code == 0x102:\n",
    "            return None\n",
    "            \n",
    "        func, input_addr, input_aligned_shape, output_addr, output_aligned_shape = externs[code]\n",
    "        input = buf[input_addr:input_addr + shape2size(input_aligned_shape) * (act_bit // 8)].view(np.int16).reshape(input_aligned_shape)\n",
    "        \n",
    "        start_time = time.time()\n",
    "        if input.shape[-1] == 8:\n",
    "            input = input[:,:,:,:1]\n",
    "        if warped_image2s is None:\n",
    "            output = func(input)\n",
    "        else:\n",
    "            output = np.array(fusion_quantize_cython(np.array(input), warped_image2s), dtype=np.int16)\n",
    "            # output = round_and_clip(np.concatenate([np.sum(input * warped_image2.astype(np.int32), axis=3, keepdims=True) for warped_image2 in warped_image2s], axis=3) / (1 << 16))\n",
    "            # output = round_and_clip(np.array([np.sum(np.array(input, dtype=np.int32) * warped_image2, axis=3) for warped_image2 in warped_image2s]).transpose(1, 2, 3, 0) / (1 << 16))\n",
    "        if output.shape != output_aligned_shape:\n",
    "            output = np.append(output, np.zeros((*output.shape[:-1], 7), dtype=output.dtype), axis=output.ndim-1)\n",
    "        if code == s:\n",
    "            sw.append(time.time() - start_time) \n",
    "            \n",
    "        output = output.astype(np.int16).reshape(-1)\n",
    "        buf[output_addr:output_addr + shape2size(output_aligned_shape) * (act_bit // 8)] = output.view(np.uint8)\n",
    "\n",
    "        # print(code, time.time() - start_time)\n",
    "\n",
    "        if code == 0x79: return input\n",
    "\n",
    "    keyframe_buffer = KeyframeBuffer(buffer_size=test_keyframe_buffer_size,\n",
    "                                    keyframe_pose_distance=test_keyframe_pose_distance,\n",
    "                                    optimal_t_score=test_optimal_t_measure,\n",
    "                                    optimal_R_score=test_optimal_R_measure,\n",
    "                                    store_return_indices=False)\n",
    "    previous = False\n",
    "    hidden_state = None\n",
    "    previous_depth = None\n",
    "    previous_pose = None\n",
    "\n",
    "    start_time_total = time.time()\n",
    "\n",
    "    idx = 0\n",
    "    depths = []\n",
    "    for n in range(len(reference_images)):\n",
    "        start_time = time.time()\n",
    "        response = keyframe_buffer.try_new_keyframe(reference_poses[n][0])\n",
    "\n",
    "        # print(\"evaluating %05d.png (response: %d) ...\" % (n + 3, response))\n",
    "        if response == 2 or response == 4 or response == 5:\n",
    "            continue\n",
    "        elif response == 3:\n",
    "            previous = False\n",
    "            hidden_state = None\n",
    "            previous_depth = None\n",
    "            previous_pose = None\n",
    "            continue\n",
    "\n",
    "        reference_image_value = prepare_input_value(reference_images[n].transpose(0, 2, 3, 1), 12)\n",
    "        reference_image_value = np.append(reference_image_value, reference_pads, axis=3).reshape(-1)\n",
    "        addr = addrs[len(output_files)]\n",
    "        buf[addr:addr + reference_image_value.size * (act_bit // 8)] = reference_image_value.view(np.uint8)\n",
    "        # print(\"prep\", time.time() - start_time)\n",
    "        \n",
    "        ip.run()\n",
    "\n",
    "        if response == 0:\n",
    "            for i in range(len(externs)):\n",
    "                code = ip.wait_extern()\n",
    "                ip.resume_extern()\n",
    "                if i == 0:\n",
    "                    _, input_addr, input_aligned_shape, _, _ = externs[code]\n",
    "                    feature_half_value = buf[input_addr:input_addr + shape2size(input_aligned_shape) * (act_bit // 8)].view(np.int16).reshape(input_aligned_shape)\n",
    "                    keyframe_buffer.add_new_keyframe(reference_poses[n][0], feature_half_value.copy())\n",
    "            ip.wait()\n",
    "            print(time.time() - start_time)\n",
    "            continue\n",
    "\n",
    "        # start_time_1 = time.time()\n",
    "        ### prepare fusion ###\n",
    "        measurement_poses_value = []\n",
    "        measurement_features_value = []\n",
    "        frame_number_value = idx\n",
    "        measurement_frames = keyframe_buffer.get_best_measurement_frames(reference_poses[n][0], max_n_measurement_frames)\n",
    "        for measurement_frame in measurement_frames:\n",
    "            measurement_poses_value.append(measurement_frame[0])\n",
    "            measurement_features_value.append(measurement_frame[1])\n",
    "        # print(\"kfb_get\", time.time() - start_time_1)\n",
    "\n",
    "        # start_time_1 = time.time()\n",
    "        inv_pose2s = np.linalg.inv(np.array(measurement_poses_value))\n",
    "        warped_image2s = np.array(prep_cython(len(measurement_frames), np.array(measurement_features_value), half_K, inv_half_K, reference_poses[n][0], inv_pose2s, warp_grid), dtype=np.int16)\n",
    "        # print(\"fusion.prep\", time.time() - start_time_1)\n",
    "\n",
    "        # timing cannot meat when HW is fast, so add extern before lstm should be better\n",
    "        # start_time_1 = time.time()\n",
    "        if previous:\n",
    "            ### prepare previous_depth and hidden_state ###\n",
    "            addr = addrs[3]\n",
    "            output_aligned_shape = output_aligned_shapes[3]\n",
    "            depth_org = buf[addr:addr + shape2size(output_aligned_shape) * (act_bit // 8)].view(np.int16).reshape(output_aligned_shape)\n",
    "            depth_org = depth_org[:,:,:,:1]\n",
    "            depth_org = (depth_org.transpose(0, 3, 1, 2) / (1 << 14)).astype(np.float32)\n",
    "            inverse_depth_full = inverse_depth_multiplier * depth_org + inverse_depth_base\n",
    "            previous_depth = 1.0 / inverse_depth_full\n",
    "            # print(\"dep\", time.time() - start_time_1)\n",
    "\n",
    "            # start_time_1 = time.time()\n",
    "            hidden_state_value = calc(hidden_state, previous_depth, previous_pose, reference_poses[n]).reshape(-1)\n",
    "            addr = addrs[hidden_state_idx]\n",
    "            buf[addr:addr + hidden_state_value.size * (act_bit // 8)] = hidden_state_value.view(np.uint8)\n",
    "        else:\n",
    "            ### prepare hidden_state and cell_state ###\n",
    "            addr = addrs[hidden_state_idx+1]\n",
    "            buf[addr:addr + org_cell_state.size * (act_bit // 8)] = org_cell_state.view(np.uint8)\n",
    "            addr = addrs[hidden_state_idx]\n",
    "            buf[addr:addr + org_hidden_state.size * (act_bit // 8)] = org_hidden_state.view(np.uint8)\n",
    "        # print(\"lstm\", time.time() - start_time_1)\n",
    "\n",
    "        for i in range(len(externs)):\n",
    "            code = ip.wait_extern()\n",
    "            # print(\"e\", time.time() - start_time)\n",
    "            if i == 0:\n",
    "                feature_half_value = run_extern(code, warped_image2s)\n",
    "                ip.resume_extern()\n",
    "\n",
    "                # start_time_1 = time.time()\n",
    "                keyframe_buffer.add_new_keyframe(reference_poses[n][0], feature_half_value.copy())\n",
    "                # print(\"kfb_add\", time.time() - start_time_1)\n",
    "            else:\n",
    "                run_extern(code)\n",
    "                ip.resume_extern()\n",
    "            # print(\"s\", time.time() - start_time)\n",
    "\n",
    "        # start_time_1 = time.time()\n",
    "        ### prepare hidden_state and cell_state ###\n",
    "        addr = addrs[2]\n",
    "        output_aligned_shape = output_aligned_shapes[2]\n",
    "        hidden_state = buf[addr:addr + shape2size(output_aligned_shape) * (act_bit // 8)].view(np.int16).reshape(output_aligned_shape)\n",
    "\n",
    "        previous_pose = reference_poses[n]\n",
    "        # print(\"post\", time.time() - start_time_1)\n",
    "\n",
    "        ip.wait()\n",
    "        hw.append(ip.base_ip.read(48) / 100000000)\n",
    "        print(time.time() - start_time)\n",
    "\n",
    "        if previous: depths.append(previous_depth)\n",
    "        previous = True\n",
    "        idx += 1\n",
    "\n",
    "\n",
    "    # print(time.time() - start_time_total)\n",
    "\n",
    "    addr = addrs[3]\n",
    "    output_aligned_shape = output_aligned_shapes[3]\n",
    "    depth_org = buf[addr:addr + shape2size(output_aligned_shape) * (act_bit // 8)].view(np.int16).reshape(output_aligned_shape)\n",
    "    depth_org = depth_org[:,:,:,:1]\n",
    "    depth_org = (depth_org.transpose(0, 3, 1, 2) / (1 << 14)).astype(np.float32)\n",
    "    inverse_depth_full = inverse_depth_multiplier * depth_org + inverse_depth_base\n",
    "    previous_depth = 1.0 / inverse_depth_full\n",
    "    depths.append(previous_depth)\n"
   ]
  },
  {
   "cell_type": "code",
   "execution_count": 27,
   "metadata": {},
   "outputs": [
    {
     "name": "stdout",
     "output_type": "stream",
     "text": [
      "(12, 11)\n"
     ]
    }
   ],
   "source": [
    "sw = np.array(sw).reshape(-1, 11)\n",
    "hw = np.array(hw).reshape(-1, 11)\n",
    "assert sw.shape == hw.shape\n",
    "print(sw.shape)"
   ]
  },
  {
   "cell_type": "code",
   "execution_count": 28,
   "metadata": {},
   "outputs": [],
   "source": [
    "in_size = np.array([49152, 3072, 3072, 3072, 6144, 192, 12288, 768, 24576, 3072, 12288, 49152])\n",
    "out_size = np.array([98304, 3072, 3072, 12288, 24576, 768, 49152, 3072, 98304, 12288, 49152, 196608])\n",
    "io_size = in_size + out_size"
   ]
  },
  {
   "cell_type": "code",
   "execution_count": 34,
   "metadata": {},
   "outputs": [],
   "source": [
    "# np.savez_compressed('overheads4', hw=hw, sw=sw)"
   ]
  },
  {
   "cell_type": "code",
   "execution_count": 29,
   "metadata": {},
   "outputs": [
    {
     "name": "stdout",
     "output_type": "stream",
     "text": [
      "[0.00084849 0.00074146 0.00056897 0.00044164 0.00050187 0.0003712\n",
      " 0.00087813 0.00038459 0.00201026 0.00042204 0.00049413 0.0047882 ]\n"
     ]
    }
   ],
   "source": [
    "data = np.median(hw - sw, axis=1)\n",
    "print(data)"
   ]
  },
  {
   "cell_type": "code",
   "execution_count": 30,
   "metadata": {},
   "outputs": [
    {
     "data": {
      "text/plain": [
       "0.8786541794821223"
      ]
     },
     "execution_count": 30,
     "metadata": {},
     "output_type": "execute_result"
    }
   ],
   "source": [
    "np.corrcoef(data, (in_size + out_size))[0,1]"
   ]
  },
  {
   "cell_type": "code",
   "execution_count": 33,
   "metadata": {},
   "outputs": [
    {
     "data": {
      "image/png": "[encoded data removed]",
      "text/plain": [
       "<matplotlib.figure.Figure at 0x7f803ac8d0>"
      ]
     },
     "metadata": {},
     "output_type": "display_data"
    }
   ],
   "source": [
    "import matplotlib.pyplot as plt\n",
    "%matplotlib inline\n",
    "plt.figure()\n",
    "plt.scatter(data * 1000, io_size)\n",
    "# plt.xlim(0, 0.007 * 1000)\n",
    "plt.xlabel('overheads [ms]')\n",
    "plt.ylabel('pixels (input + output)')\n",
    "plt.grid()\n",
    "plt.show()"
   ]
  },
  {
   "cell_type": "code",
   "execution_count": 22,
   "metadata": {},
   "outputs": [
    {
     "name": "stdout",
     "output_type": "stream",
     "text": [
      "11 11\n",
      "0.9981648390543427\n",
      "0.9992443523984911\n",
      "0.9974589782005606\n",
      "0.9984591642086847\n",
      "0.9992527954355334\n",
      "0.9986021878380238\n",
      "0.9969824587282724\n",
      "0.9988970198837177\n",
      "0.9997805005553531\n",
      "0.9998966528702832\n",
      "0.9991100371905802\n"
     ]
    }
   ],
   "source": [
    "predictions = predictions_npz[\"prediction\"]\n",
    "print(len(predictions), len(depths))\n",
    "for prediction, depth in zip(predictions, depths):\n",
    "    print(np.corrcoef(prediction.reshape(-1), depth.reshape(-1))[0, 1])"
   ]
  },
  {
   "cell_type": "code",
   "execution_count": 16,
   "metadata": {},
   "outputs": [
    {
     "name": "stdout",
     "output_type": "stream",
     "text": [
      "0.2282257080078125\n",
      "0.07089972496032715\n",
      "0.00016379356384277344\n",
      "3.910064697265625e-05\n",
      "0.010536432266235352\n",
      "0.004091024398803711\n",
      "0.006621837615966797\n",
      "0.004142045974731445\n",
      "0.007704734802246094\n",
      "0.00826716423034668\n",
      "0.01750636100769043\n",
      "0.0037245750427246094\n",
      "0.05546164512634277\n",
      "0.42031359672546387\n"
     ]
    }
   ],
   "source": [
    "start_time_total = time.time()\n",
    "ip.run()\n",
    "start_time = time.time()\n",
    "for i in range(len(externs)):\n",
    "    code = ip.wait_extern()\n",
    "    print(time.time() - start_time)\n",
    "    ip.resume_extern()\n",
    "    start_time = time.time()\n",
    "ip.wait()\n",
    "print(time.time() - start_time)\n",
    "print(time.time() - start_time_total)"
   ]
  },
  {
   "cell_type": "code",
   "execution_count": null,
   "metadata": {},
   "outputs": [],
   "source": []
  }
 ],
 "metadata": {
  "interpreter": {
   "hash": "31f2aee4e71d21fbe5cf8b01ff0e069b9275f58929596ceb00d14d90e3e16cd6"
  },
  "kernelspec": {
   "display_name": "Python 3.8.10 64-bit",
   "language": "python",
   "name": "python3"
  },
  "language_info": {
   "codemirror_mode": {
    "name": "ipython",
    "version": 3
   },
   "file_extension": ".py",
   "mimetype": "text/x-python",
   "name": "python",
   "nbconvert_exporter": "python",
   "pygments_lexer": "ipython3",
   "version": "3.6.5"
  },
  "orig_nbformat": 4
 },
 "nbformat": 4,
 "nbformat_minor": 2
}
